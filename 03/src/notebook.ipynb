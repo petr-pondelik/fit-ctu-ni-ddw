{
 "cells": [
  {
   "cell_type": "markdown",
   "metadata": {},
   "source": [
    "# HW3 - Social Network Analysis"
   ]
  },
  {
   "cell_type": "markdown",
   "metadata": {},
   "source": [
    "## Import modules"
   ]
  },
  {
   "cell_type": "code",
   "execution_count": 50,
   "metadata": {},
   "outputs": [],
   "source": [
    "import pandas as pd\n",
    "import nltk\n",
    "import networkx as nx\n",
    "import matplotlib.pyplot as plt\n",
    "from networkx.drawing.nx_agraph import graphviz_layout\n",
    "from tqdm import tqdm"
   ]
  },
  {
   "cell_type": "markdown",
   "metadata": {},
   "source": [
    "## Load the data"
   ]
  },
  {
   "cell_type": "code",
   "execution_count": 2,
   "metadata": {},
   "outputs": [],
   "source": [
    "casts = pd.read_csv('./../data/casts.csv', error_bad_lines = False, sep=';')"
   ]
  },
  {
   "cell_type": "markdown",
   "metadata": {},
   "source": [
    "## Convert „casts“ data to a graph"
   ]
  },
  {
   "cell_type": "code",
   "execution_count": 45,
   "metadata": {},
   "outputs": [
    {
     "name": "stdout",
     "output_type": "stream",
     "text": [
      "['actor_type', 'movie', 'actor', 'role_type', 'role']\n"
     ]
    },
    {
     "name": "stderr",
     "output_type": "stream",
     "text": [
      "100%|██████████| 16613/16613 [02:57<00:00, 93.40it/s] \n"
     ]
    }
   ],
   "source": [
    "G = nx.Graph()\n",
    "\n",
    "# Print casts CSV column headers\n",
    "print(casts.columns.tolist())\n",
    "\n",
    "# Group movies by actors\n",
    "# movies_by_actor = casts[casts['actor_type'] < 'AA90'].groupby('actor')['movie']\n",
    "movies_by_actor = casts.groupby('actor')['movie']\n",
    "movies_by_actor_dict = movies_by_actor.apply(list).to_dict()\n",
    "# print(len(movies_by_actor_dict))\n",
    "# print(movies_by_actor_dict['A.E. Matthews'])\n",
    "# print(movies_by_actor_dict)\n",
    "\n",
    "del movies_by_actor_dict['s a']\n",
    "\n",
    "# Create the graph\n",
    "for actor in movies_by_actor_dict.keys():\n",
    "    G.add_node(actor)\n",
    "\n",
    "# Test if two lists overlaps\n",
    "# print(bool(set(movies_by_actor_dict['A.E. Matthews']) & set(movies_by_actor_dict['David Tree'])))\n",
    "# print(bool(set(movies_by_actor_dict['A.E. Matthews']) & set(movies_by_actor_dict['Athene Seyler'])))\n",
    "\n",
    "for actor1, movies1 in tqdm(movies_by_actor_dict.items(), total=len(movies_by_actor_dict)):\n",
    "    for actor2, movies2 in movies_by_actor_dict.items():\n",
    "        if actor1 != actor2 and bool(set(movies1) & set(movies2)):\n",
    "            G.add_edge(actor1, actor2)\n",
    "\n",
    "nx.write_gexf(G, './../results/actors_casts.gexf')"
   ]
  },
  {
   "cell_type": "markdown",
   "metadata": {},
   "source": [
    "## Dataset general statistics"
   ]
  },
  {
   "cell_type": "code",
   "execution_count": 46,
   "metadata": {},
   "outputs": [
    {
     "name": "stdout",
     "output_type": "stream",
     "text": [
      "Number of nodes:  16613\n",
      "Number of edges:  152266\n",
      "Density:  0.0011034761404392502\n",
      "Number of components:  749\n"
     ]
    }
   ],
   "source": [
    "n = len(G.nodes())\n",
    "e = len(G.edges())\n",
    "\n",
    "print('Number of nodes: ', n)\n",
    "print('Number of edges: ', e)\n",
    "print('Density: ', e / (n*(n-1)/2))\n",
    "\n",
    "components = list(nx.connected_components(G))\n",
    "\n",
    "print('Number of components: ', len(components))"
   ]
  },
  {
   "cell_type": "markdown",
   "metadata": {},
   "source": [
    "## Centralities"
   ]
  },
  {
   "cell_type": "code",
   "execution_count": 48,
   "metadata": {},
   "outputs": [
    {
     "name": "stderr",
     "output_type": "stream",
     "text": [
      "  0%|          | 0/4 [00:00<?, ?it/s]"
     ]
    },
    {
     "name": "stdout",
     "output_type": "stream",
     "text": [
      "Top 10 players by degree_centrality:\n",
      "('Humphrey Bogart', 0.025824705032506622)\n",
      "('James Stewart', 0.02245364796532627)\n",
      "('Gary Cooper', 0.022212858174813388)\n",
      "('John Gielgud', 0.022212858174813388)\n",
      "('John Carradine', 0.022032265831928726)\n",
      "('Peter Lorre', 0.02161088369853118)\n",
      "('C.Aubrey Smith', 0.020226342403082107)\n",
      "('Henry Fonda', 0.019443775583915242)\n",
      "('Burt Lancaster', 0.018721406212376595)\n",
      "('Basil Rathbone', 0.018601011317120154)\n",
      "\n",
      "\n",
      "Top 10 players by closeness_centrality:\n"
     ]
    },
    {
     "name": "stderr",
     "output_type": "stream",
     "text": [
      " 50%|█████     | 2/4 [06:00<06:00, 180.04s/it]"
     ]
    },
    {
     "name": "stdout",
     "output_type": "stream",
     "text": [
      "('Charlton Heston', 0.3448314740754543)\n",
      "('John Gielgud', 0.34392751970400837)\n",
      "('Burt Lancaster', 0.3432436777371951)\n",
      "('Henry Fonda', 0.34034977415556733)\n",
      "('John Carradine', 0.3398032399416941)\n",
      "('James Stewart', 0.33871542040968683)\n",
      "('David Niven', 0.3382002705165573)\n",
      "('Robert Mitchum', 0.3363793322090303)\n",
      "('Humphrey Bogart', 0.33579389045964547)\n",
      "('Laurence Olivier', 0.33534757288931855)\n",
      "\n",
      "\n",
      "Top 10 players by betweenness_centrality:\n"
     ]
    },
    {
     "name": "stderr",
     "output_type": "stream",
     "text": [
      " 75%|███████▌  | 3/4 [40:19<16:02, 962.91s/it]"
     ]
    },
    {
     "name": "stdout",
     "output_type": "stream",
     "text": [
      "('Vincent Price', 0.010911758431554602)\n",
      "('Burt Lancaster', 0.010772380644409017)\n",
      "('John Carradine', 0.010626361313336918)\n",
      "('Robert deNiro', 0.010466733936323008)\n",
      "('Humphrey Bogart', 0.010386116460623892)\n",
      "('Gene Hackman', 0.010042626763144201)\n",
      "('John Gielgud', 0.009595726372221362)\n",
      "('Jack Nicholson', 0.009222947872330209)\n",
      "('Charlton Heston', 0.009194069187636999)\n",
      "('James Stewart', 0.008190657113060142)\n",
      "\n",
      "\n",
      "Top 10 players by eigenvector_centrality:\n"
     ]
    },
    {
     "name": "stderr",
     "output_type": "stream",
     "text": [
      "100%|██████████| 4/4 [40:20<00:00, 605.04s/it]"
     ]
    },
    {
     "name": "stdout",
     "output_type": "stream",
     "text": [
      "('C.Aubrey Smith', 0.10527677021679366)\n",
      "('John Carradine', 0.09890125927888967)\n",
      "('James Stewart', 0.09305085440923555)\n",
      "('Peter Lorre', 0.09255638847118301)\n",
      "('John Gielgud', 0.091583074734001)\n",
      "('Basil Rathbone', 0.08981915239405143)\n",
      "('Gary Cooper', 0.08938950751216483)\n",
      "('David Niven', 0.08746691901018518)\n",
      "('Andy Devine', 0.08728714563105724)\n",
      "('Humphrey Bogart', 0.08503242693045049)\n",
      "\n",
      "\n"
     ]
    },
    {
     "name": "stderr",
     "output_type": "stream",
     "text": [
      "\n"
     ]
    }
   ],
   "source": [
    "centralities = [nx.degree_centrality, nx.closeness_centrality,\n",
    " nx.betweenness_centrality, nx.eigenvector_centrality]\n",
    "\n",
    "k = 10\n",
    "\n",
    "for centrality in tqdm(centralities, total=len(centralities)):\n",
    "    print('Top {} players by {}:'.format(k, centrality.__name__))\n",
    "    c_dict = centrality(G)\n",
    "    c_dict = dict(sorted(c_dict.items(), key=lambda item: item[1], reverse=True))\n",
    "    for item in list(c_dict.items())[:k]:\n",
    "        print(item)\n",
    "    print('\\n')"
   ]
  },
  {
   "cell_type": "markdown",
   "metadata": {},
   "source": [
    "## Communities"
   ]
  },
  {
   "cell_type": "code",
   "execution_count": 80,
   "metadata": {},
   "outputs": [
    {
     "name": "stdout",
     "output_type": "stream",
     "text": [
      "{'Lela Mourad': 1, 'Mervyn Johns': 1, 'Leonardo DiCaprio': 1, 'Laurence Olivier': 1, 'Basil Rathbone': 1, 'Norman Wooland': 1, 'Beverly Bane': 1, 'Nietta Zocchi': 1, 'John Gielgud': 3, 'Laurence Harvey': 1, 'Antionio Pierfrederici': 1, 'Roberto Bisacco': 1, 'Harry Hilliard': 1, 'John Barrymore': 1, 'Norma Shearer': 1, 'Natasha Peryy': 1, 'Gustav Serena': 1, 'Sir Godrey Teale': 1, 'C.Aubrey Smith': 1, 'Leslie Howard': 1, 'Conway Tearle': 1, 'Francesca Bertini': 1, 'Mario Caserini': 1, 'Enzo Fiermonte': 1, 'Bill Travers': 1, 'Esmeralda Ruspoli': 1, 'Flora Robson': 1, 'Ibrahim Hamouda': 1, 'Violet KembleCooper': 1, 'td> Claire Danes<': 1, 'Julia M. Taylor': 1, 'George A. Lessey': 1, 'Michael York': 1, 'Maria Gasperini': 1, 'Reginald Denny': 2, 'Francis X. Bushman': 1, 'Paul Panzer': 1, 'Robert Warwick': 1, 'Ralph Forbes': 1, 'Sebastian Cabot': 1, 'Rosemarie Dexter': 1, 'Paul Hardwick': 1, 'Henry Kolker': 1, 'Milo OShea': 1, 'Virginia Hammond': 1, 'John McEnery': 1, 'Meynier': 1, 'Aldo Zollo': 1, 'Lydia Sherwood': 1, 'Susan Shentall': 1, 'Olivia Hussey': 1, 'Florence Lawrence': 1, 'Andy Devine': 2, 'Bruce Robinson': 1, 'Edna May Oliver': 1, 'Leonard Whiting': 1, 'Gulio Garbinetti': 1, 'Mary Malone': 1, 'Theda Bara': 1, 'Ronald Colman': 2, 'Finlay Currie': 2, 'Cedric Hardwicke': 2, 'Basil Sidney': 2, 'Ronald Squire': 2, 'Noel Coward': 2, 'Joe E. Brown': 2, 'Ed Murrow': 2, 'Harcourt Williams': 2, 'Trevor Howard': 2, 'Tim McCoy': 2, 'Martine Carroll': 2, 'Jack Oakie': 2, 'Charles Coburn': 2, 'John Mills': 2, 'David Niven': 2, 'John Carradine': 2, 'Jose Greco': 2, 'Glynis Johns': 2, 'Victor McLaglen': 2, 'A.E. Mathews': 2, 'Cantinflas': 2, 'Luis Dominguin': 2, 'Buster Keaton': 2, 'Edmund Lowe': 2, 'Shirleu Maclaine': 2, 'Hermione Gingold': 2, 'Beatrice Lillie': 2, 'Alan Mowbray': 2, 'Gilbert Roland': 2, 'Evelyn Keyes': 2, 'Peter Lorre': 2, 'Fernandel': 2, 'Cesar Romero': 2, 'Red Skelton': 2, 'Robert Morley': 3, 'George Raft': 2, 'Melville Cooper': 2, 'Robert Newton': 2, 'Charles Boyer': 2, 'Frank Sinatra': 2, 'Marlene Dietrich': 2, 'Mike Mazurki': 2, 'Ralph Bellamy': 3, 'Ian Jenble': 3, 'Topol': 3, 'Leslie Hope': 3, 'H.Richard Greene': 3, 'Robert Hardy': 3, 'Steven Berkoff': 3, 'Ian McShane': 3, 'Peter Vaughn': 3, 'William Prince': 3, 'R.G. Armstrong': 3, 'Jane Seymour': 3, 'Wolfgang Preiss': 3, 'Barry Bostwick': 3, 'William Bergen': 3, 'Hart Bochner': 3, 'Natalie Nogulich': 3, 'Joachim Hauser': 3, 'Sharon Stone': 3, 'Michael Wolf': 3, 'Paul Lambert': 3, 'John Malcolm': 3, 'Harold Kaskel': 3, 'Donald Stewart': 3, 'Hardy Kruger': 3, 'Michael Melling': 3, 'Robert Mitchum': 3, 'Dan Collier': 3, 'Charles Lane': 3, 'Polly Bergen': 3, 'William Schallert': 3, 'Kenneth Colley': 3, 'Jeremy Kemp': 3, 'Victoria Tennant': 3, 'Plett Creighton': 3, 'Barry Moore': 3, 'Bill Wallis': 3, 'John RhysDavies': 3, 'David Dukes': 3, 'Geoffrey Toonen': 3, 'Nina Foch': 3, 'William Doherty': 3, 'Michael Anthony': 3}\n"
     ]
    }
   ],
   "source": [
    "communities = {node:cid+1 for cid,community in enumerate(nx.algorithms.community.k_clique_communities(G,40)) for node in community}\n",
    "print(communities)"
   ]
  },
  {
   "cell_type": "code",
   "execution_count": null,
   "metadata": {},
   "outputs": [],
   "source": []
  },
  {
   "cell_type": "markdown",
   "metadata": {},
   "source": [
    "## Dataset reduction"
   ]
  },
  {
   "cell_type": "code",
   "execution_count": 6,
   "metadata": {},
   "outputs": [
    {
     "name": "stdout",
     "output_type": "stream",
     "text": [
      "8632\n",
      "5232\n"
     ]
    }
   ],
   "source": [
    "# Filter the data\n",
    "\n",
    "# print(casts[casts['actor_type'] < 'AA37']['movie'].value_counts().to_dict())\n",
    "# print(casts['movie'].value_counts().to_dict())\n",
    "\n",
    "movies_casts_cnt = casts['movie'].value_counts().to_dict()\n",
    "print(len(movies_casts_cnt))\n",
    "# print(movies_casts_cnt)\n",
    "\n",
    "movies_filtered = list(k for (k, v) in movies_casts_cnt.items() if v < 6)\n",
    "print(len(movies_filtered))\n",
    "# print(movies_filtered)"
   ]
  }
 ],
 "metadata": {
  "kernelspec": {
   "display_name": "Python 3",
   "language": "python",
   "name": "python3"
  },
  "language_info": {
   "codemirror_mode": {
    "name": "ipython",
    "version": 3
   },
   "file_extension": ".py",
   "mimetype": "text/x-python",
   "name": "python",
   "nbconvert_exporter": "python",
   "pygments_lexer": "ipython3",
   "version": "3.8.5"
  }
 },
 "nbformat": 4,
 "nbformat_minor": 4
}
