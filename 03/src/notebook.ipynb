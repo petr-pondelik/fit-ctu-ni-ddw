{
 "cells": [
  {
   "cell_type": "markdown",
   "metadata": {},
   "source": [
    "# HW3 - Social Network Analysis"
   ]
  },
  {
   "cell_type": "markdown",
   "metadata": {},
   "source": [
    "## Import modules"
   ]
  },
  {
   "cell_type": "code",
   "execution_count": 1,
   "metadata": {},
   "outputs": [],
   "source": [
    "import math\n",
    "import pandas as pd\n",
    "import networkx as nx\n",
    "import matplotlib.pyplot as plt\n",
    "from networkx.drawing.nx_agraph import graphviz_layout\n",
    "from tqdm import tqdm"
   ]
  },
  {
   "cell_type": "markdown",
   "metadata": {},
   "source": [
    "## Useful functions"
   ]
  },
  {
   "cell_type": "code",
   "execution_count": 98,
   "metadata": {},
   "outputs": [],
   "source": [
    "k=10\n",
    "\n",
    "def print_dict(d, k=10):\n",
    "    for item in list(d.items())[:k]:\n",
    "        print(item)\n",
    "        \n",
    "def lists_overlap(l1, l2):\n",
    "    return bool(set(l1) & set(l2))"
   ]
  },
  {
   "cell_type": "markdown",
   "metadata": {},
   "source": [
    "## Load the data"
   ]
  },
  {
   "cell_type": "code",
   "execution_count": 2,
   "metadata": {},
   "outputs": [],
   "source": [
    "casts = pd.read_csv('./../data/casts.csv', error_bad_lines = False, sep=';')"
   ]
  },
  {
   "cell_type": "markdown",
   "metadata": {},
   "source": [
    "## Convert „casts“ data to a graph"
   ]
  },
  {
   "cell_type": "code",
   "execution_count": 3,
   "metadata": {},
   "outputs": [
    {
     "name": "stdout",
     "output_type": "stream",
     "text": [
      "['actor_type', 'movie', 'actor', 'role_type', 'role']\n"
     ]
    },
    {
     "name": "stderr",
     "output_type": "stream",
     "text": [
      "100%|██████████| 16610/16610 [02:55<00:00, 94.64it/s] \n"
     ]
    }
   ],
   "source": [
    "G = nx.Graph()\n",
    "\n",
    "# Print casts CSV column headers\n",
    "print(casts.columns.tolist())\n",
    "\n",
    "# Group movies by actors\n",
    "movies_by_actor = casts.groupby('actor')['movie']\n",
    "# movies_by_actor = casts[casts['actor_type'] < 'AA90'].groupby('actor')['movie']\n",
    "movies_by_actor_dict = movies_by_actor.apply(list).to_dict()\n",
    "# print(len(movies_by_actor_dict))\n",
    "# print(movies_by_actor_dict['A.E. Matthews'])\n",
    "# print(movies_by_actor_dict)\n",
    "\n",
    "# Filter the supporting actor\n",
    "if 's a' in movies_by_actor_dict:\n",
    "    del movies_by_actor_dict['s a']\n",
    "\n",
    "# Filter numeric actor values\n",
    "# Using dictionary comprehension to find list\n",
    "# Get numeric actors\n",
    "delete = [key for key in movies_by_actor_dict if key.isnumeric()]\n",
    "\n",
    "# Delete the key\n",
    "for key in delete: del movies_by_actor_dict[key]\n",
    "        \n",
    "# Create the graph\n",
    "for actor in movies_by_actor_dict.keys():\n",
    "    G.add_node(actor)\n",
    "        \n",
    "# Test if two lists overlaps\n",
    "# print(bool(set(movies_by_actor_dict['A.E. Matthews']) & set(movies_by_actor_dict['David Tree'])))\n",
    "# print(bool(set(movies_by_actor_dict['A.E. Matthews']) & set(movies_by_actor_dict['Athene Seyler'])))\n",
    "\n",
    "for actor1, movies1 in tqdm(movies_by_actor_dict.items(), total=len(G.nodes())):\n",
    "    for actor2, movies2 in movies_by_actor_dict.items():\n",
    "        if actor1 != actor2 and lists_overlap(movies1, movies2):\n",
    "            G.add_edge(actor1, actor2)"
   ]
  },
  {
   "cell_type": "markdown",
   "metadata": {},
   "source": [
    "## Dataset general statistics"
   ]
  },
  {
   "cell_type": "code",
   "execution_count": 121,
   "metadata": {},
   "outputs": [
    {
     "name": "stdout",
     "output_type": "stream",
     "text": [
      "Number of nodes:  16610\n",
      "Number of edges:  152251\n",
      "Density:  0.0011037660504019404\n",
      "Number of components:  748\n"
     ]
    }
   ],
   "source": [
    "def general_statistics(graph, visualize_components=False):\n",
    "    n = len(graph.nodes())\n",
    "    e = len(graph.edges())\n",
    "    print('Number of nodes: ', n)\n",
    "    print('Number of edges: ', e)\n",
    "    print('Density: ', e / (n*(n-1)/2))\n",
    "    components = list(nx.connected_components(graph))\n",
    "    if visualize_components:\n",
    "        pos = graphviz_layout(graph)\n",
    "        nx.draw(graph, pos, with_labels=False, node_size=10)\n",
    "    print('Number of components: ', len(components))\n",
    "    \n",
    "general_statistics(G)"
   ]
  },
  {
   "cell_type": "markdown",
   "metadata": {},
   "source": [
    "## Centralities"
   ]
  },
  {
   "cell_type": "code",
   "execution_count": 139,
   "metadata": {},
   "outputs": [],
   "source": [
    "def compute_centralities(graph, centralities, k):\n",
    "    for centrality in tqdm(centralities, total=len(centralities)):\n",
    "        print('Top {} players by {}:'.format(k, centrality.__name__))\n",
    "        c_dict = centrality(graph)\n",
    "        c_dict = dict(sorted(c_dict.items(), key=lambda item: item[1], reverse=True))\n",
    "        for item in list(c_dict.items()):\n",
    "            graph.nodes[item[0]][centrality.__name__] = item[1]\n",
    "        print_dict(c_dict)\n",
    "        print('\\n')\n",
    "    return graph\n",
    "\n",
    "G = compute_centralities(G, [nx.degree_centrality, nx.closeness_centrality, nx.betweenness_centrality, nx.eigenvector_centrality], k)\n",
    "# G = compute_centralities(G, [nx.degree_centrality], k)\n",
    "# print(G.nodes['Humphrey Bogart'])"
   ]
  },
  {
   "cell_type": "markdown",
   "metadata": {},
   "source": [
    "## Communities"
   ]
  },
  {
   "cell_type": "code",
   "execution_count": 71,
   "metadata": {},
   "outputs": [
    {
     "name": "stdout",
     "output_type": "stream",
     "text": [
      "Largest community has size of 59 nodes:\n",
      "('Beverly Bane', 1)\n",
      "('Ralph Forbes', 1)\n",
      "('Laurence Harvey', 1)\n",
      "('Gulio Garbinetti', 1)\n",
      "('Edna May Oliver', 1)\n",
      "('John McEnery', 1)\n",
      "('John Gielgud', 1)\n",
      "('Paul Hardwick', 1)\n",
      "('Robert Warwick', 1)\n",
      "('Milo OShea', 1)\n",
      "('Paul Panzer', 1)\n",
      "('Susan Shentall', 1)\n",
      "('Mario Caserini', 1)\n",
      "('Rosemarie Dexter', 1)\n",
      "('C.Aubrey Smith', 1)\n",
      "('Gustav Serena', 1)\n",
      "('Virginia Hammond', 1)\n",
      "('Henry Kolker', 1)\n",
      "('Francis X. Bushman', 1)\n",
      "('Leslie Howard', 1)\n",
      "('Enzo Fiermonte', 1)\n",
      "('Basil Rathbone', 1)\n",
      "('Francesca Bertini', 1)\n",
      "('Olivia Hussey', 1)\n",
      "('Theda Bara', 1)\n",
      "('Sir Godrey Teale', 1)\n",
      "('Antionio Pierfrederici', 1)\n",
      "('Lela Mourad', 1)\n",
      "('Norman Wooland', 1)\n",
      "('Violet KembleCooper', 1)\n",
      "('Julia M. Taylor', 1)\n",
      "('Ibrahim Hamouda', 1)\n",
      "('Norma Shearer', 1)\n",
      "('td> Claire Danes<', 1)\n",
      "('Laurence Olivier', 1)\n",
      "('Natasha Peryy', 1)\n",
      "('Sebastian Cabot', 1)\n",
      "('Maria Gasperini', 1)\n",
      "('Flora Robson', 1)\n",
      "('Lydia Sherwood', 1)\n",
      "('Nietta Zocchi', 1)\n",
      "('Mary Malone', 1)\n",
      "('Esmeralda Ruspoli', 1)\n",
      "('Aldo Zollo', 1)\n",
      "('Michael York', 1)\n",
      "('Harry Hilliard', 1)\n",
      "('John Barrymore', 1)\n",
      "('Roberto Bisacco', 1)\n",
      "('Leonard Whiting', 1)\n",
      "('Bruce Robinson', 1)\n",
      "('Reginald Denny', 1)\n",
      "('George A. Lessey', 1)\n",
      "('Conway Tearle', 1)\n",
      "('Andy Devine', 1)\n",
      "('Leonardo DiCaprio', 1)\n",
      "('Bill Travers', 1)\n",
      "('Mervyn Johns', 1)\n",
      "('Meynier', 1)\n",
      "('Florence Lawrence', 1)\n",
      "\n",
      "\n",
      "Communities with at least 35 nodes:\n",
      "('Roy Emerton', 1)\n",
      "('Esmond Knight', 4)\n",
      "('Max Adrian', 1)\n",
      "('Janet Burnett', 1)\n",
      "('Brian Blessed', 4)\n",
      "('Richard Briars', 1)\n",
      "('Paul Scofield', 4)\n",
      "('Emma Thompson', 1)\n",
      "('Robert Newton', 2)\n",
      "('Alec McGowan', 1)\n",
      "('Harcourt Williams', 2)\n",
      "('Richard Easton', 1)\n",
      "('Christopher Ravenscroft', 1)\n",
      "('Ralph Truman', 1)\n",
      "('Felix Aylmer', 4)\n",
      "('John Laurie', 1)\n",
      "('Valentine Dyall', 1)\n",
      "('Laurence Olivier', 4)\n",
      "('Judi Dench', 1)\n",
      "('Russell Thorndike', 1)\n",
      "('Derek Jacobi', 4)\n",
      "('Leslie Banks', 1)\n",
      "('George Robey', 1)\n",
      "('Frederick Cooper', 1)\n",
      "('Jonathan Field', 1)\n",
      "('Christian Bale', 1)\n",
      "('Kenneth Branagh', 4)\n",
      "('Geraldine McEwen', 1)\n",
      "('Reneé Asherson', 1)\n",
      "('Freda Jackson', 1)\n",
      "('Ivy StHelier', 1)\n",
      "('Leo Genn', 1)\n",
      "('Ernest Thesiger', 1)\n",
      "('Ian Holm', 4)\n",
      "('Robert Stephens', 1)\n",
      "('Francis Lister', 1)\n",
      "('Robbie Coltrane', 1)\n",
      "('Robert Morley', 5)\n",
      "('Edmund Lowe', 2)\n",
      "('Martine Carroll', 2)\n",
      "('John Mills', 4)\n",
      "('Noel Coward', 2)\n",
      "('Ed Murrow', 2)\n",
      "('Shirleu Maclaine', 2)\n",
      "('Finlay Currie', 2)\n",
      "('Joe E. Brown', 2)\n",
      "('John Gielgud', 5)\n",
      "('Buster Keaton', 2)\n",
      "('Charles Boyer', 2)\n",
      "('Marlene Dietrich', 2)\n",
      "('Ronald Colman', 2)\n",
      "('Gilbert Roland', 2)\n",
      "('Trevor Howard', 2)\n",
      "('David Niven', 2)\n",
      "('Ronald Squire', 2)\n",
      "('Charles Coburn', 2)\n",
      "('Peter Lorre', 2)\n",
      "('George Raft', 2)\n",
      "('Evelyn Keyes', 2)\n",
      "('Tim McCoy', 2)\n",
      "('Frank Sinatra', 2)\n",
      "('Alan Mowbray', 2)\n",
      "('Jack Oakie', 2)\n",
      "('Cantinflas', 2)\n",
      "('John Carradine', 2)\n",
      "('Mike Mazurki', 2)\n",
      "('Basil Sidney', 4)\n",
      "('Fernandel', 2)\n",
      "('Glynis Johns', 2)\n",
      "('Cedric Hardwicke', 2)\n",
      "('Hermione Gingold', 2)\n",
      "('Reginald Denny', 3)\n",
      "('Jose Greco', 2)\n",
      "('Andy Devine', 3)\n",
      "('Cesar Romero', 2)\n",
      "('Victor McLaglen', 2)\n",
      "('Luis Dominguin', 2)\n",
      "('Beatrice Lillie', 2)\n",
      "('Red Skelton', 2)\n",
      "('Melville Cooper', 2)\n",
      "('A.E. Mathews', 2)\n",
      "('Beverly Bane', 3)\n",
      "('Ralph Forbes', 3)\n",
      "('Laurence Harvey', 3)\n",
      "('Gulio Garbinetti', 3)\n",
      "('Edna May Oliver', 3)\n",
      "('John McEnery', 3)\n",
      "('Paul Hardwick', 3)\n",
      "('Robert Warwick', 3)\n",
      "('Milo OShea', 3)\n",
      "('Paul Panzer', 3)\n",
      "('Susan Shentall', 3)\n",
      "('Mario Caserini', 3)\n",
      "('Rosemarie Dexter', 3)\n",
      "('C.Aubrey Smith', 3)\n",
      "('Gustav Serena', 3)\n",
      "('Virginia Hammond', 3)\n",
      "('Henry Kolker', 3)\n",
      "('Francis X. Bushman', 3)\n",
      "('Leslie Howard', 3)\n",
      "('Enzo Fiermonte', 3)\n",
      "('Basil Rathbone', 3)\n",
      "('Francesca Bertini', 3)\n",
      "('Olivia Hussey', 3)\n",
      "('Theda Bara', 3)\n",
      "('Sir Godrey Teale', 3)\n",
      "('Antionio Pierfrederici', 3)\n",
      "('Lela Mourad', 3)\n",
      "('Norman Wooland', 4)\n",
      "('Violet KembleCooper', 3)\n",
      "('Julia M. Taylor', 3)\n",
      "('Ibrahim Hamouda', 3)\n",
      "('Norma Shearer', 3)\n",
      "('td> Claire Danes<', 3)\n",
      "('Natasha Peryy', 3)\n",
      "('Sebastian Cabot', 3)\n",
      "('Maria Gasperini', 3)\n",
      "('Flora Robson', 3)\n",
      "('Lydia Sherwood', 3)\n",
      "('Nietta Zocchi', 3)\n",
      "('Mary Malone', 3)\n",
      "('Esmeralda Ruspoli', 3)\n",
      "('Aldo Zollo', 3)\n",
      "('Michael York', 3)\n",
      "('Harry Hilliard', 3)\n",
      "('John Barrymore', 3)\n",
      "('Roberto Bisacco', 3)\n",
      "('Leonard Whiting', 3)\n",
      "('Bruce Robinson', 3)\n",
      "('George A. Lessey', 3)\n",
      "('Conway Tearle', 3)\n",
      "('Leonardo DiCaprio', 3)\n",
      "('Bill Travers', 3)\n",
      "('Mervyn Johns', 3)\n",
      "('Meynier', 3)\n",
      "('Florence Lawrence', 3)\n",
      "('Gordon Jackson', 4)\n",
      "('Jack Lemmon', 4)\n",
      "('Mel Gibson', 4)\n",
      "('Anthony Hopkins', 4)\n",
      "('Judy Parfitt', 4)\n",
      "('Nicholas Farrell', 4)\n",
      "('Jean Simmons', 4)\n",
      "('Anthony Quayle', 4)\n",
      "('Glenn Close', 4)\n",
      "('Nicol Williamson', 4)\n",
      "('Mark Dignam', 4)\n",
      "('Simon Russell Beale', 4)\n",
      "('Robin Williams', 4)\n",
      "('Billy Crystal', 4)\n",
      "('Roger Livesey', 4)\n",
      "('Terence Morgan', 4)\n",
      "('Richard Briers', 4)\n",
      "('Charlton Heston', 4)\n",
      "('Michael Maloney', 4)\n",
      "('Alan Bates', 4)\n",
      "('Stanley Holloway', 4)\n",
      "('Julie Christie', 4)\n",
      "('Eileen Herlie', 4)\n",
      "('Michael Pennington', 4)\n",
      "('Kate Winslet', 4)\n",
      "('Gerard Depardieu', 4)\n",
      "('Marianne Faithfull', 4)\n",
      "('Barry Bostwick', 5)\n",
      "('Peter Vaughn', 5)\n",
      "('Geoffrey Toonen', 5)\n",
      "('R.G. Armstrong', 5)\n",
      "('William Bergen', 5)\n",
      "('David Dukes', 5)\n",
      "('Harold Kaskel', 5)\n",
      "('John Malcolm', 5)\n",
      "('Leslie Hope', 5)\n",
      "('Wolfgang Preiss', 5)\n",
      "('Hardy Kruger', 5)\n",
      "('Polly Bergen', 5)\n",
      "('Nina Foch', 5)\n",
      "('Donald Stewart', 5)\n",
      "('Ian McShane', 5)\n",
      "('John RhysDavies', 5)\n",
      "('Hart Bochner', 5)\n",
      "('Paul Lambert', 5)\n",
      "('Sharon Stone', 5)\n",
      "('William Prince', 5)\n",
      "('Ian Jenble', 5)\n",
      "('Joachim Hauser', 5)\n",
      "('Barry Moore', 5)\n",
      "('Bill Wallis', 5)\n",
      "('Robert Hardy', 5)\n",
      "('Michael Wolf', 5)\n",
      "('Charles Lane', 5)\n",
      "('Kenneth Colley', 5)\n",
      "('Natalie Nogulich', 5)\n",
      "('Dan Collier', 5)\n",
      "('Michael Anthony', 5)\n",
      "('Ralph Bellamy', 5)\n",
      "('Plett Creighton', 5)\n",
      "('Steven Berkoff', 5)\n",
      "('Michael Melling', 5)\n",
      "('Robert Mitchum', 5)\n",
      "('William Doherty', 5)\n",
      "('Jane Seymour', 5)\n",
      "('Victoria Tennant', 5)\n",
      "('William Schallert', 5)\n",
      "('Topol', 5)\n",
      "('Jeremy Kemp', 5)\n",
      "('H.Richard Greene', 5)\n"
     ]
    }
   ],
   "source": [
    "communities = {node:cid+1 for cid,community in enumerate(nx.algorithms.community.k_clique_communities(G,59)) for node in community}\n",
    "print('Largest community has size of {} nodes:'.format(len(communities)))\n",
    "print_dict(communities, len(communities))\n",
    "print('\\n')\n",
    "\n",
    "communities = {node:cid+1 for cid,community in enumerate(nx.algorithms.community.k_clique_communities(G,35)) for node in community}\n",
    "print('Communities with at least 35 nodes:')\n",
    "print_dict(communities, len(communities))"
   ]
  },
  {
   "cell_type": "markdown",
   "metadata": {},
   "source": [
    "## Kevin Bacon numbers"
   ]
  },
  {
   "cell_type": "code",
   "execution_count": 133,
   "metadata": {},
   "outputs": [
    {
     "name": "stdout",
     "output_type": "stream",
     "text": [
      "Top 10 actors with Kevin Bacon number:\n",
      "('Abel Gance', {'degree_centrality': 0.00018062496236979952, 'kevin_bacon_number': 16610, 'closeness_centrality': 0.00018062496236979952, 'betweenness_centrality': 0.0, 'eigenvector_centrality': 3.674385679978072e-21})\n",
      "('Abel Salazar', {'degree_centrality': 6.020832078993317e-05, 'kevin_bacon_number': 16610, 'closeness_centrality': 6.020832078993317e-05, 'betweenness_centrality': 0.0, 'eigenvector_centrality': 2.2426670410022412e-25})\n",
      "('Abishek Kapoor', {'degree_centrality': 6.020832078993317e-05, 'kevin_bacon_number': 16610, 'closeness_centrality': 6.020832078993317e-05, 'betweenness_centrality': 0.0, 'eigenvector_centrality': 2.2426670410022412e-25})\n",
      "('Adolfas Mekas', {'degree_centrality': 0.00024083328315973267, 'kevin_bacon_number': 16610, 'closeness_centrality': 0.00024083328315973267, 'betweenness_centrality': 0.0, 'eigenvector_centrality': 8.354585770525938e-20})\n",
      "('Adolph Gance', {'degree_centrality': 0.0, 'kevin_bacon_number': 16610, 'closeness_centrality': 0.0, 'betweenness_centrality': 0.0, 'eigenvector_centrality': 1.3688153326429695e-29})\n",
      "('Adriana Asti', {'degree_centrality': 0.0, 'kevin_bacon_number': 16610, 'closeness_centrality': 0.0, 'betweenness_centrality': 0.0, 'eigenvector_centrality': 1.3688153326429695e-29})\n",
      "('Agnes deMille', {'degree_centrality': 0.0, 'kevin_bacon_number': 16610, 'closeness_centrality': 0.0, 'betweenness_centrality': 0.0, 'eigenvector_centrality': 1.3688153326429695e-29})\n",
      "('Aida Leiner', {'degree_centrality': 6.020832078993317e-05, 'kevin_bacon_number': 16610, 'closeness_centrality': 6.020832078993317e-05, 'betweenness_centrality': 0.0, 'eigenvector_centrality': 2.2426670410022412e-25})\n",
      "('Ajay Devgan', {'degree_centrality': 0.00024083328315973267, 'kevin_bacon_number': 16610, 'closeness_centrality': 0.00024083328315973267, 'betweenness_centrality': 0.0, 'eigenvector_centrality': 8.354585770525938e-20})\n",
      "('Ajita Wist', {'degree_centrality': 0.00048166656631946534, 'kevin_bacon_number': 16610, 'closeness_centrality': 0.00048166656631946534, 'betweenness_centrality': 0.0, 'eigenvector_centrality': 3.1314104274041607e-16})\n",
      "\n",
      "\n",
      "Top 10 actors with finite Kevin Bacon number:\n",
      "('Abel Gance', {'degree_centrality': 0.00018062496236979952, 'kevin_bacon_number': 16610, 'closeness_centrality': 0.00018062496236979952, 'betweenness_centrality': 0.0, 'eigenvector_centrality': 3.674385679978072e-21})\n",
      "('Abel Salazar', {'degree_centrality': 6.020832078993317e-05, 'kevin_bacon_number': 16610, 'closeness_centrality': 6.020832078993317e-05, 'betweenness_centrality': 0.0, 'eigenvector_centrality': 2.2426670410022412e-25})\n",
      "('Abishek Kapoor', {'degree_centrality': 6.020832078993317e-05, 'kevin_bacon_number': 16610, 'closeness_centrality': 6.020832078993317e-05, 'betweenness_centrality': 0.0, 'eigenvector_centrality': 2.2426670410022412e-25})\n",
      "('Adolfas Mekas', {'degree_centrality': 0.00024083328315973267, 'kevin_bacon_number': 16610, 'closeness_centrality': 0.00024083328315973267, 'betweenness_centrality': 0.0, 'eigenvector_centrality': 8.354585770525938e-20})\n",
      "('Adolph Gance', {'degree_centrality': 0.0, 'kevin_bacon_number': 16610, 'closeness_centrality': 0.0, 'betweenness_centrality': 0.0, 'eigenvector_centrality': 1.3688153326429695e-29})\n",
      "('Adriana Asti', {'degree_centrality': 0.0, 'kevin_bacon_number': 16610, 'closeness_centrality': 0.0, 'betweenness_centrality': 0.0, 'eigenvector_centrality': 1.3688153326429695e-29})\n",
      "('Agnes deMille', {'degree_centrality': 0.0, 'kevin_bacon_number': 16610, 'closeness_centrality': 0.0, 'betweenness_centrality': 0.0, 'eigenvector_centrality': 1.3688153326429695e-29})\n",
      "('Aida Leiner', {'degree_centrality': 6.020832078993317e-05, 'kevin_bacon_number': 16610, 'closeness_centrality': 6.020832078993317e-05, 'betweenness_centrality': 0.0, 'eigenvector_centrality': 2.2426670410022412e-25})\n",
      "('Ajay Devgan', {'degree_centrality': 0.00024083328315973267, 'kevin_bacon_number': 16610, 'closeness_centrality': 0.00024083328315973267, 'betweenness_centrality': 0.0, 'eigenvector_centrality': 8.354585770525938e-20})\n",
      "('Ajita Wist', {'degree_centrality': 0.00048166656631946534, 'kevin_bacon_number': 16610, 'closeness_centrality': 0.00048166656631946534, 'betweenness_centrality': 0.0, 'eigenvector_centrality': 3.1314104274041607e-16})\n",
      "\n",
      "\n",
      "Bottom 10 actors with finite Kevin Bacon number:\n",
      "('Kevin Bacon', {'degree_centrality': 0.0034318742850261907, 'kevin_bacon_number': 0, 'closeness_centrality': 0.2819631534445897, 'betweenness_centrality': 0.0007830112633597049, 'eigenvector_centrality': 0.0031398712104195427})\n",
      "('Aaron Michael Metchik', {'degree_centrality': 0.0003010416039496658, 'kevin_bacon_number': 1, 'closeness_centrality': 0.2318022701551928, 'betweenness_centrality': 0.0, 'eigenvector_centrality': 0.0001745854992279462})\n",
      "('Aaron Spelling', {'degree_centrality': 0.0007224998494791981, 'kevin_bacon_number': 1, 'closeness_centrality': 0.2578243323211152, 'betweenness_centrality': 1.553299129136911e-05, 'eigenvector_centrality': 0.0010752346534124652})\n",
      "('Abe Vigoda', {'degree_centrality': 0.0003010416039496658, 'kevin_bacon_number': 1, 'closeness_centrality': 0.2412220078913464, 'betweenness_centrality': 0.0, 'eigenvector_centrality': 0.0003112569936670367})\n",
      "('Adam Roarke', {'degree_centrality': 0.0005418748871093985, 'kevin_bacon_number': 1, 'closeness_centrality': 0.253872695691508, 'betweenness_centrality': 1.1923355278052057e-05, 'eigenvector_centrality': 0.0006705672053230135})\n",
      "('Adam West', {'degree_centrality': 0.0015654163405382623, 'kevin_bacon_number': 1, 'closeness_centrality': 0.2815758247942259, 'betweenness_centrality': 8.980290546636014e-05, 'eigenvector_centrality': 0.004878152616344954})\n",
      "('Adolphe Menjou', {'degree_centrality': 0.009392498043229574, 'kevin_bacon_number': 1, 'closeness_centrality': 0.30862978584583317, 'betweenness_centrality': 0.002258421332537391, 'eigenvector_centrality': 0.039128817300652895})\n",
      "('Aerik Egan', {'degree_centrality': 0.0009031248118489975, 'kevin_bacon_number': 1, 'closeness_centrality': 0.23320743208651953, 'betweenness_centrality': 0.0, 'eigenvector_centrality': 0.00023498297583877175})\n",
      "('Aidan Quinn', {'degree_centrality': 0.003251249322656391, 'kevin_bacon_number': 1, 'closeness_centrality': 0.2778661712522872, 'betweenness_centrality': 0.00037949345849733857, 'eigenvector_centrality': 0.0023429702566866756})\n",
      "('Al Karth', {'degree_centrality': 0.00036124992473959903, 'kevin_bacon_number': 1, 'closeness_centrality': 0.2341815754862276, 'betweenness_centrality': 0.0, 'eigenvector_centrality': 0.00016146190477618716})\n",
      "\n",
      "\n",
      "Average Kevin Bacon number: 1849.698494882601\n"
     ]
    }
   ],
   "source": [
    "def kevin_bacon_numbers(graph):\n",
    "    for a in graph.nodes():\n",
    "        try:\n",
    "            path = nx.shortest_path(graph,source=a,target='Kevin Bacon')\n",
    "            graph.nodes[a]['kevin_bacon_number'] = int(len(path)/2)\n",
    "        except nx.NetworkXNoPath:\n",
    "            graph.nodes[a]['kevin_bacon_number'] = len(graph.nodes())\n",
    "#         print('{0}: {1}'.format(a, graph.nodes[a]))\n",
    "    return graph\n",
    "\n",
    "print('Top {} actors with Kevin Bacon number:'.format(k))\n",
    "G = kevin_bacon_numbers(G)\n",
    "# print(G.nodes['Humphrey Bogart'])\n",
    "\n",
    "\n",
    "#=== Top k actors by Kevin Bacon number (including infinite KB number - actors wign non-existing path to KB)\n",
    "# Sort actors by Kevin Bacon number\n",
    "kevin_bacon_desc = dict(sorted(dict(G.nodes(data=True)).items(), key=lambda item: item[1]['kevin_bacon_number'], reverse=True))\n",
    "print_dict(kevin_bacon_desc)\n",
    "print('\\n')\n",
    "\n",
    "\n",
    "#=== Top k actors by Kevin Bacon number (finite only)\n",
    "kevin_bacon_decs_fin = {}\n",
    "\n",
    "# Filter actors by finite Kevin Bacon number\n",
    "to_add = [key for key in kevin_bacon_desc if kevin_bacon_desc[key]['kevin_bacon_number'] is not math.inf]\n",
    "for key in to_add:\n",
    "    kevin_bacon_decs_fin[key] = kevin_bacon_desc[key]\n",
    "    \n",
    "print('Top {} actors with finite Kevin Bacon number:'.format(k))\n",
    "print_dict(kevin_bacon_decs_fin)\n",
    "print('\\n')\n",
    "\n",
    "\n",
    "#=== Bottom k actors by Kevin Bacon number\n",
    "print('Bottom {} actors with finite Kevin Bacon number:'.format(k))\n",
    "kevin_bacon_asc_fin = dict(sorted(kevin_bacon_decs_fin.items(), key=lambda item: item[1]['kevin_bacon_number']))\n",
    "print_dict(kevin_bacon_asc_fin)\n",
    "print('\\n')\n",
    "\n",
    "#=== Average Kevin Bacon number (finite numbers only)\n",
    "sum = 0\n",
    "for item in kevin_bacon_asc_fin.items():\n",
    "    sum += item[1]['kevin_bacon_number']\n",
    "kv_avg = sum/len(kevin_bacon_asc_fin)\n",
    "print('Average Kevin Bacon number: {}'.format(kv_avg))"
   ]
  },
  {
   "cell_type": "markdown",
   "metadata": {},
   "source": [
    "## Save into GEXF format"
   ]
  },
  {
   "cell_type": "code",
   "execution_count": 135,
   "metadata": {},
   "outputs": [],
   "source": [
    "nx.write_gexf(G, './../results/actors_casts.gexf')"
   ]
  },
  {
   "cell_type": "markdown",
   "metadata": {},
   "source": [
    "## Dataset reduction"
   ]
  },
  {
   "cell_type": "code",
   "execution_count": 161,
   "metadata": {},
   "outputs": [
    {
     "name": "stdout",
     "output_type": "stream",
     "text": [
      "8632\n",
      "4356\n",
      "4853\n"
     ]
    }
   ],
   "source": [
    "movies_casts_cnt = casts['movie'].value_counts().to_dict()\n",
    "print(len(movies_casts_cnt))\n",
    "# print(movies_casts_cnt)\n",
    "\n",
    "movies_reduced = list(k for (k, v) in movies_casts_cnt.items() if (v < 5))\n",
    "print(len(movies_reduced))\n",
    "# print(movies_reduced)\n",
    "\n",
    "movies_by_actor_reduced_dict = {}\n",
    "\n",
    "for key, val in movies_by_actor_dict.items():\n",
    "    if lists_overlap(val, movies_reduced):\n",
    "        movies_by_actor_reduced_dict[key] = val\n",
    "\n",
    "print(len(movies_by_actor_reduced_dict))\n",
    "# print(movies_by_actor_reduced_dict)"
   ]
  },
  {
   "cell_type": "markdown",
   "metadata": {},
   "source": [
    "## Construct reduced graph"
   ]
  },
  {
   "cell_type": "code",
   "execution_count": 162,
   "metadata": {},
   "outputs": [
    {
     "name": "stderr",
     "output_type": "stream",
     "text": [
      "100%|██████████| 4853/4853 [00:23<00:00, 202.93it/s]\n"
     ]
    }
   ],
   "source": [
    "# Create the graph\n",
    "G_reduced = nx.Graph()\n",
    "\n",
    "for actor in movies_by_actor_reduced_dict.keys():\n",
    "    G_reduced.add_node(actor)\n",
    "\n",
    "for actor1, movies1 in tqdm(movies_by_actor_reduced_dict.items(), total=len(G_reduced.nodes())):\n",
    "    for actor2, movies2 in movies_by_actor_reduced_dict.items():\n",
    "        if actor1 != actor2 and lists_overlap(movies1, movies2):\n",
    "            G_reduced.add_edge(actor1, actor2)"
   ]
  },
  {
   "cell_type": "markdown",
   "metadata": {},
   "source": [
    "## Reduced graph general statistics"
   ]
  },
  {
   "cell_type": "code",
   "execution_count": 164,
   "metadata": {},
   "outputs": [
    {
     "name": "stdout",
     "output_type": "stream",
     "text": [
      "Number of nodes:  4853\n",
      "Number of edges:  43510\n",
      "Density:  0.003695625843322112\n",
      "Number of components:  15\n"
     ]
    }
   ],
   "source": [
    "general_statistics(G_reduced)"
   ]
  },
  {
   "cell_type": "markdown",
   "metadata": {},
   "source": [
    "## Reduced Centralities"
   ]
  },
  {
   "cell_type": "code",
   "execution_count": 166,
   "metadata": {},
   "outputs": [
    {
     "name": "stderr",
     "output_type": "stream",
     "text": [
      "  0%|          | 0/4 [00:00<?, ?it/s]"
     ]
    },
    {
     "name": "stdout",
     "output_type": "stream",
     "text": [
      "Top 10 players by degree_centrality:\n",
      "('Charlton Heston', 0.041220115416323165)\n",
      "('Burt Lancaster', 0.03977741137675186)\n",
      "('John Carradine', 0.03977741137675186)\n",
      "('Henry Fonda', 0.03957131079967024)\n",
      "('James Stewart', 0.03957131079967024)\n",
      "('John Gielgud', 0.038953009068425394)\n",
      "('Gary Cooper', 0.03812860676009893)\n",
      "('Humphrey Bogart', 0.036892003297609235)\n",
      "('Gene Hackman', 0.036273701566364384)\n",
      "('C.Aubrey Smith', 0.03503709810387469)\n",
      "\n",
      "\n",
      "Top 10 players by closeness_centrality:\n"
     ]
    },
    {
     "name": "stderr",
     "output_type": "stream",
     "text": [
      " 50%|█████     | 2/4 [00:37<00:37, 18.79s/it]"
     ]
    },
    {
     "name": "stdout",
     "output_type": "stream",
     "text": [
      "('Burt Lancaster', 0.38989386465864234)\n",
      "('Charlton Heston', 0.38828273298649923)\n",
      "('John Gielgud', 0.38721602218159124)\n",
      "('Robert Mitchum', 0.381725783855295)\n",
      "('Henry Fonda', 0.3814523195510127)\n",
      "('Roddy McDowall', 0.37930865050810303)\n",
      "('John Carradine', 0.3781115267886518)\n",
      "('Gene Hackman', 0.3772780263359607)\n",
      "('Martin Balsam', 0.3768626526045434)\n",
      "('Laurence Olivier', 0.37683301804823255)\n",
      "\n",
      "\n",
      "Top 10 players by betweenness_centrality:\n"
     ]
    },
    {
     "name": "stderr",
     "output_type": "stream",
     "text": [
      " 75%|███████▌  | 3/4 [03:40<01:26, 86.99s/it]"
     ]
    },
    {
     "name": "stdout",
     "output_type": "stream",
     "text": [
      "('Burt Lancaster', 0.01782220759938391)\n",
      "('John Gielgud', 0.01593126725978241)\n",
      "('Robert deNiro', 0.015505589377468884)\n",
      "('Gene Hackman', 0.015041411402960446)\n",
      "('Charlton Heston', 0.014130679273452252)\n",
      "('Jack Nicholson', 0.012773269113655084)\n",
      "('Ingrid Bergman', 0.012571431495683127)\n",
      "('John Carradine', 0.012239197378249623)\n",
      "('Max vonSydow', 0.011584440028305467)\n",
      "('Sean Connery', 0.01148359435247888)\n",
      "\n",
      "\n",
      "Top 10 players by eigenvector_centrality:\n"
     ]
    },
    {
     "name": "stderr",
     "output_type": "stream",
     "text": [
      "100%|██████████| 4/4 [03:40<00:00, 55.13s/it]"
     ]
    },
    {
     "name": "stdout",
     "output_type": "stream",
     "text": [
      "('John Carradine', 0.11467320567694804)\n",
      "('Henry Fonda', 0.10901593912198232)\n",
      "('James Stewart', 0.10433269974281009)\n",
      "('C.Aubrey Smith', 0.10339504438273409)\n",
      "('David Niven', 0.10139095210817221)\n",
      "('Charlton Heston', 0.09939158317938407)\n",
      "('Gary Cooper', 0.09491106954410376)\n",
      "('John Gielgud', 0.09016101051755372)\n",
      "('Peter Lorre', 0.08822401953823208)\n",
      "('Humphrey Bogart', 0.0855589280071451)\n",
      "\n",
      "\n"
     ]
    },
    {
     "name": "stderr",
     "output_type": "stream",
     "text": [
      "\n"
     ]
    }
   ],
   "source": [
    "G_reduced = compute_centralities(G_reduced, [nx.degree_centrality, nx.closeness_centrality, nx.betweenness_centrality, nx.eigenvector_centrality], k)"
   ]
  },
  {
   "cell_type": "markdown",
   "metadata": {},
   "source": [
    "## Reduced communities"
   ]
  },
  {
   "cell_type": "code",
   "execution_count": 197,
   "metadata": {},
   "outputs": [
    {
     "name": "stdout",
     "output_type": "stream",
     "text": [
      "Communities with at least 20 nodes:\n",
      "('Fred Ward', 1)\n",
      "('Whoopie Goldberg', 1)\n",
      "('Anjelica Huston', 1)\n",
      "('Jack Lemmon', 1)\n",
      "('Lyle Lovett', 1)\n",
      "('Dina Merrill', 1)\n",
      "('Bruce Willis', 1)\n",
      "('Dustin Hoffman', 1)\n",
      "('Buck Henry', 1)\n",
      "('Greta Scacchi', 1)\n",
      "('Burt Reynolds', 1)\n",
      "('Dean Stockwell', 1)\n",
      "('Susan Sarandon', 1)\n",
      "('Peter Gallagher', 1)\n",
      "('Cher', 1)\n",
      "('Vincent dOnofrio', 1)\n",
      "('Andie McDowell', 1)\n",
      "('Nick Nolte', 1)\n",
      "('Tim Robbins', 1)\n",
      "('Julia Roberts', 1)\n",
      "('Robert Morley', 3)\n",
      "('John Mills', 2)\n",
      "('Evelyn Keyes', 2)\n",
      "('Tim McCoy', 2)\n",
      "('Frank Sinatra', 2)\n",
      "('Joe E. Brown', 2)\n",
      "('John Gielgud', 3)\n",
      "('John Carradine', 2)\n",
      "('Fernandel', 2)\n",
      "('Basil Sidney', 2)\n",
      "('Glynis Johns', 2)\n",
      "('Robert Newton', 2)\n",
      "('Buster Keaton', 2)\n",
      "('Charles Boyer', 2)\n",
      "('Reginald Denny', 2)\n",
      "('Ronald Colman', 2)\n",
      "('Marlene Dietrich', 2)\n",
      "('Trevor Howard', 2)\n",
      "('Gilbert Roland', 2)\n",
      "('David Niven', 2)\n",
      "('Cesar Romero', 2)\n",
      "('Victor McLaglen', 2)\n",
      "('Peter Lorre', 2)\n",
      "('George Raft', 2)\n",
      "('Red Skelton', 2)\n",
      "('R.G. Armstrong', 3)\n",
      "('Robert Hardy', 3)\n",
      "('David Dukes', 3)\n",
      "('Leslie Hope', 3)\n",
      "('Wolfgang Preiss', 3)\n",
      "('Charles Lane', 3)\n",
      "('Hardy Kruger', 3)\n",
      "('Polly Bergen', 3)\n",
      "('Nina Foch', 3)\n",
      "('Ralph Bellamy', 3)\n",
      "('Robert Mitchum', 4)\n",
      "('Jane Seymour', 3)\n",
      "('Sharon Stone', 3)\n",
      "('Victoria Tennant', 3)\n",
      "('William Schallert', 3)\n",
      "('Hart Bochner', 3)\n",
      "('William Prince', 3)\n",
      "('Topol', 3)\n",
      "('Jeremy Kemp', 3)\n",
      "('Peter Lawford', 4)\n",
      "('John Wayne', 4)\n",
      "('Steve Forrest', 4)\n",
      "('Robert Ryan', 4)\n",
      "('JeanLouis Barrault', 4)\n",
      "('Henry Fonda', 4)\n",
      "('Stuart Whitman', 4)\n",
      "('Tom Tryon', 4)\n",
      "('Donald Houston', 4)\n",
      "('Roddy McDowall', 4)\n",
      "('Kenneth Moore', 4)\n",
      "('Jeffrey Hunter', 4)\n",
      "('Eddie Albert', 4)\n",
      "('John Gregson', 4)\n",
      "('Edmond OBrien', 4)\n",
      "('Mel Ferrer', 4)\n",
      "('Richard Beymer', 4)\n",
      "('Rod Steiger', 4)\n",
      "('Curt Jurgens', 4)\n",
      "('Richard Burton', 4)\n",
      "('Robert Wagner', 4)\n",
      "('Alexander Knox', 4)\n",
      "('Sean Connery', 4)\n",
      "('Red Buttons', 4)\n",
      "('Arletty', 4)\n",
      "('Richard Todd', 4)\n",
      "('Van Heflin', 5)\n",
      "('Hugh OConnor', 5)\n",
      "('Miles Mander', 5)\n",
      "('Kiefer Sutherland', 5)\n",
      "('Paul Lukas', 5)\n",
      "('Charlie Sheen', 5)\n",
      "('Gloria Stuart', 5)\n",
      "('Walter Abel', 5)\n",
      "('Don Ameche', 5)\n",
      "('Oliver Platt', 5)\n",
      "('June Allyson', 5)\n",
      "('Charlton Heston', 5)\n",
      "('Binnie Barnes', 5)\n",
      "('Gene Kelly', 5)\n",
      "('Lionel Atwill', 5)\n",
      "('Joseph Schildkraut', 5)\n",
      "('Gabrielle Anwar', 5)\n",
      "('Margot Grahame', 5)\n",
      "('Angela Lansbury', 5)\n",
      "('Chris ODonnell', 5)\n",
      "('Lana Turner', 5)\n",
      "('Frank Morgan', 5)\n",
      "('Vincent Price', 5)\n"
     ]
    }
   ],
   "source": [
    "communities = {node:cid+1 for cid,community in enumerate(nx.algorithms.community.k_clique_communities(G_reduced,20)) for node in community}\n",
    "print('Communities with at least 20 nodes:')\n",
    "print_dict(communities, len(communities))\n",
    "\n",
    "for key, val in G_reduced.nodes().items():\n",
    "    if key in communities:\n",
    "        G_reduced.nodes[key]['community'] = communities[key]\n",
    "    else:\n",
    "        G_reduced.nodes[key]['community'] = 0"
   ]
  },
  {
   "cell_type": "markdown",
   "metadata": {},
   "source": [
    "## Reduced Kevin Bacon numbers"
   ]
  },
  {
   "cell_type": "code",
   "execution_count": 198,
   "metadata": {},
   "outputs": [
    {
     "name": "stdout",
     "output_type": "stream",
     "text": [
      "('58 Plymouth Fury', {'kevin_bacon_number': 2, 'degree_centrality': 0.00020610057708161583, 'closeness_centrality': 0.2248691047120911, 'betweenness_centrality': 0.0, 'eigenvector_centrality': 6.383975775530849e-05, 'community': 0})\n",
      "('Aaron Schwartz', {'kevin_bacon_number': 2, 'degree_centrality': 0.00041220115416323167, 'closeness_centrality': 0.24083754601062282, 'betweenness_centrality': 0.0, 'eigenvector_centrality': 0.00011137954845097152, 'community': 0})\n",
      "('Abraham Sofaer', {'kevin_bacon_number': 2, 'degree_centrality': 0.00494641384995878, 'closeness_centrality': 0.3126221860864618, 'betweenness_centrality': 0.0008786192072790573, 'eigenvector_centrality': 0.012217450671431878, 'community': 0})\n",
      "('Acquanetta', {'kevin_bacon_number': 2, 'degree_centrality': 0.0016488046166529267, 'closeness_centrality': 0.2839477093393004, 'betweenness_centrality': 2.0438530390791752e-05, 'eigenvector_centrality': 0.003986695691544215, 'community': 0})\n",
      "('Adam Ant', {'kevin_bacon_number': 2, 'degree_centrality': 0.0006183017312448475, 'closeness_centrality': 0.21357453830641648, 'betweenness_centrality': 0.0, 'eigenvector_centrality': 1.1328868079693605e-05, 'community': 0})\n",
      "('Adam Faith', {'kevin_bacon_number': 2, 'degree_centrality': 0.0008244023083264633, 'closeness_centrality': 0.2724690408528186, 'betweenness_centrality': 3.449000753466207e-05, 'eigenvector_centrality': 0.0010397077527302323, 'community': 0})\n",
      "('Adam Monty', {'kevin_bacon_number': 2, 'degree_centrality': 0.0006183017312448475, 'closeness_centrality': 0.26479088797211703, 'betweenness_centrality': 0.0, 'eigenvector_centrality': 0.0005421315583776408, 'community': 0})\n",
      "('Adam Rich', {'kevin_bacon_number': 2, 'degree_centrality': 0.0006183017312448475, 'closeness_centrality': 0.22506976754270963, 'betweenness_centrality': 0.0, 'eigenvector_centrality': 4.163067807192716e-05, 'community': 0})\n",
      "('Adam Roarke', {'kevin_bacon_number': 1, 'degree_centrality': 0.0016488046166529267, 'closeness_centrality': 0.28647689445955127, 'betweenness_centrality': 4.5654200248782515e-05, 'eigenvector_centrality': 0.0016439816705007546, 'community': 0})\n",
      "('Adam Sadler', {'kevin_bacon_number': 2, 'degree_centrality': 0.00041220115416323167, 'closeness_centrality': 0.2366861999565058, 'betweenness_centrality': 0.0, 'eigenvector_centrality': 7.302709840609991e-05, 'community': 0})\n"
     ]
    }
   ],
   "source": [
    "G_reduced = kevin_bacon_numbers(G_reduced)\n",
    "print_dict(G_reduced.nodes())"
   ]
  },
  {
   "cell_type": "markdown",
   "metadata": {},
   "source": [
    "## Save into GEFX format"
   ]
  },
  {
   "cell_type": "code",
   "execution_count": 199,
   "metadata": {},
   "outputs": [],
   "source": [
    "nx.write_gexf(G_reduced, './../results/actors_casts_reduced.gexf')"
   ]
  },
  {
   "cell_type": "markdown",
   "metadata": {},
   "source": [
    "## Testing attributes"
   ]
  },
  {
   "cell_type": "code",
   "execution_count": 200,
   "metadata": {},
   "outputs": [
    {
     "name": "stdout",
     "output_type": "stream",
     "text": [
      "{'kevin_bacon_number': 4853, 'degree_centrality': 0.0006183017312448475, 'closeness_centrality': 0.0006183017312448475, 'betweenness_centrality': 0.0, 'eigenvector_centrality': 1.974204310143018e-21, 'community': 0}\n"
     ]
    }
   ],
   "source": [
    "print(G_reduced.nodes['Matthew Settle'])"
   ]
  }
 ],
 "metadata": {
  "kernelspec": {
   "display_name": "Python 3",
   "language": "python",
   "name": "python3"
  },
  "language_info": {
   "codemirror_mode": {
    "name": "ipython",
    "version": 3
   },
   "file_extension": ".py",
   "mimetype": "text/x-python",
   "name": "python",
   "nbconvert_exporter": "python",
   "pygments_lexer": "ipython3",
   "version": "3.8.5"
  }
 },
 "nbformat": 4,
 "nbformat_minor": 4
}
