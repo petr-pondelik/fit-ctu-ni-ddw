{
 "cells": [
  {
   "cell_type": "markdown",
   "metadata": {},
   "source": [
    "# HW3 - Social Network Analysis"
   ]
  },
  {
   "cell_type": "markdown",
   "metadata": {},
   "source": [
    "## Import modules"
   ]
  },
  {
   "cell_type": "code",
   "execution_count": 1,
   "metadata": {},
   "outputs": [],
   "source": [
    "import math\n",
    "import pandas as pd\n",
    "import networkx as nx\n",
    "import matplotlib.pyplot as plt\n",
    "from networkx.drawing.nx_agraph import graphviz_layout\n",
    "from tqdm import tqdm"
   ]
  },
  {
   "cell_type": "markdown",
   "metadata": {},
   "source": [
    "## Useful functions"
   ]
  },
  {
   "cell_type": "code",
   "execution_count": 2,
   "metadata": {},
   "outputs": [],
   "source": [
    "k=10\n",
    "\n",
    "def print_dict(d, k=10):\n",
    "    for item in list(d.items())[:k]:\n",
    "        print(item)\n",
    "        \n",
    "def lists_overlap(l1, l2):\n",
    "    return bool(set(l1) & set(l2))"
   ]
  },
  {
   "cell_type": "markdown",
   "metadata": {},
   "source": [
    "## Load the data"
   ]
  },
  {
   "cell_type": "code",
   "execution_count": 3,
   "metadata": {},
   "outputs": [],
   "source": [
    "casts = pd.read_csv('./../data/casts.csv', error_bad_lines = False, sep=';')"
   ]
  },
  {
   "cell_type": "markdown",
   "metadata": {},
   "source": [
    "## Convert „casts“ data to a graph"
   ]
  },
  {
   "cell_type": "code",
   "execution_count": 4,
   "metadata": {},
   "outputs": [
    {
     "name": "stdout",
     "output_type": "stream",
     "text": [
      "['actor_type', 'movie', 'actor', 'role_type', 'role']\n"
     ]
    },
    {
     "name": "stderr",
     "output_type": "stream",
     "text": [
      "100%|██████████| 16610/16610 [05:17<00:00, 52.31it/s]\n"
     ]
    }
   ],
   "source": [
    "G = nx.Graph()\n",
    "\n",
    "# Print casts CSV column headers\n",
    "print(casts.columns.tolist())\n",
    "\n",
    "# Group movies by actors\n",
    "movies_by_actor = casts.groupby('actor')['movie']\n",
    "# movies_by_actor = casts[casts['actor_type'] < 'AA90'].groupby('actor')['movie']\n",
    "movies_by_actor_dict = movies_by_actor.apply(list).to_dict()\n",
    "# print(len(movies_by_actor_dict))\n",
    "# print(movies_by_actor_dict['A.E. Matthews'])\n",
    "# print(movies_by_actor_dict)\n",
    "\n",
    "# Filter the supporting actor\n",
    "if 's a' in movies_by_actor_dict:\n",
    "    del movies_by_actor_dict['s a']\n",
    "\n",
    "# Filter numeric actor values\n",
    "# Using dictionary comprehension to find list\n",
    "# Get numeric actors\n",
    "delete = [key for key in movies_by_actor_dict if key.isnumeric()]\n",
    "\n",
    "# Delete the key\n",
    "for key in delete: del movies_by_actor_dict[key]\n",
    "        \n",
    "# Create the graph\n",
    "for actor in movies_by_actor_dict.keys():\n",
    "    G.add_node(actor)\n",
    "        \n",
    "# Test if two lists overlaps\n",
    "# print(bool(set(movies_by_actor_dict['A.E. Matthews']) & set(movies_by_actor_dict['David Tree'])))\n",
    "# print(bool(set(movies_by_actor_dict['A.E. Matthews']) & set(movies_by_actor_dict['Athene Seyler'])))\n",
    "\n",
    "for actor1, movies1 in tqdm(movies_by_actor_dict.items(), total=len(G.nodes())):\n",
    "    for actor2, movies2 in movies_by_actor_dict.items():\n",
    "        if actor1 != actor2 and lists_overlap(movies1, movies2):\n",
    "            G.add_edge(actor1, actor2)"
   ]
  },
  {
   "cell_type": "markdown",
   "metadata": {},
   "source": [
    "## Dataset general statistics"
   ]
  },
  {
   "cell_type": "code",
   "execution_count": 5,
   "metadata": {},
   "outputs": [
    {
     "name": "stdout",
     "output_type": "stream",
     "text": [
      "Number of nodes:  16610\n",
      "Number of edges:  152251\n",
      "Density:  0.0011037660504019404\n",
      "Number of components:  748\n"
     ]
    }
   ],
   "source": [
    "def general_statistics(graph, visualize_components=False):\n",
    "    n = len(graph.nodes())\n",
    "    e = len(graph.edges())\n",
    "    print('Number of nodes: ', n)\n",
    "    print('Number of edges: ', e)\n",
    "    print('Density: ', e / (n*(n-1)/2))\n",
    "    components = list(nx.connected_components(graph))\n",
    "    if visualize_components:\n",
    "        pos = graphviz_layout(graph)\n",
    "        nx.draw(graph, pos, with_labels=False, node_size=10)\n",
    "    print('Number of components: ', len(components))\n",
    "    \n",
    "general_statistics(G)"
   ]
  },
  {
   "cell_type": "markdown",
   "metadata": {},
   "source": [
    "## Centralities"
   ]
  },
  {
   "cell_type": "code",
   "execution_count": 6,
   "metadata": {},
   "outputs": [
    {
     "name": "stderr",
     "output_type": "stream",
     "text": [
      " 25%|██▌       | 1/4 [00:00<00:00,  7.93it/s]"
     ]
    },
    {
     "name": "stdout",
     "output_type": "stream",
     "text": [
      "Top 10 players by degree_centrality:\n",
      "('Humphrey Bogart', 0.02582936961888133)\n",
      "('James Stewart', 0.022457703654645073)\n",
      "('Gary Cooper', 0.02221687037148534)\n",
      "('John Gielgud', 0.02221687037148534)\n",
      "('John Carradine', 0.02203624540911554)\n",
      "('Peter Lorre', 0.021614787163586006)\n",
      "('C.Aubrey Smith', 0.020229995785417544)\n",
      "('Henry Fonda', 0.019447287615148412)\n",
      "('Burt Lancaster', 0.018724787765669215)\n",
      "('Basil Rathbone', 0.018604371124089348)\n",
      "\n",
      "\n",
      "Top 10 players by closeness_centrality:\n"
     ]
    },
    {
     "name": "stderr",
     "output_type": "stream",
     "text": [
      " 50%|█████     | 2/4 [10:00<11:46, 353.16s/it]"
     ]
    },
    {
     "name": "stdout",
     "output_type": "stream",
     "text": [
      "('Charlton Heston', 0.344845635801561)\n",
      "('John Gielgud', 0.34395054343522674)\n",
      "('Burt Lancaster', 0.3432575665174259)\n",
      "('Henry Fonda', 0.340372001379352)\n",
      "('John Carradine', 0.33982534652271745)\n",
      "('James Stewart', 0.3387372876772099)\n",
      "('David Niven', 0.3382220248321082)\n",
      "('Robert Mitchum', 0.33639206310997954)\n",
      "('Humphrey Bogart', 0.3358151203676688)\n",
      "('Laurence Olivier', 0.3353687061165985)\n",
      "\n",
      "\n",
      "Top 10 players by betweenness_centrality:\n"
     ]
    },
    {
     "name": "stderr",
     "output_type": "stream",
     "text": [
      " 75%|███████▌  | 3/4 [48:35<20:48, 1248.79s/it]"
     ]
    },
    {
     "name": "stdout",
     "output_type": "stream",
     "text": [
      "('Vincent Price', 0.010914519943179804)\n",
      "('Burt Lancaster', 0.010773316674318037)\n",
      "('John Carradine', 0.010629300889984141)\n",
      "('Robert deNiro', 0.010469870030993679)\n",
      "('Humphrey Bogart', 0.01038915996299399)\n",
      "('Gene Hackman', 0.010043675685413013)\n",
      "('John Gielgud', 0.009598596782090352)\n",
      "('Jack Nicholson', 0.009224082251596292)\n",
      "('Charlton Heston', 0.009194283586915035)\n",
      "('James Stewart', 0.00819317097422135)\n",
      "\n",
      "\n",
      "Top 10 players by eigenvector_centrality:\n"
     ]
    },
    {
     "name": "stderr",
     "output_type": "stream",
     "text": [
      "100%|██████████| 4/4 [48:36<00:00, 729.13s/it] "
     ]
    },
    {
     "name": "stdout",
     "output_type": "stream",
     "text": [
      "('C.Aubrey Smith', 0.10527683317479046)\n",
      "('John Carradine', 0.09890130374344182)\n",
      "('James Stewart', 0.09305088872021564)\n",
      "('Peter Lorre', 0.09255643718949176)\n",
      "('John Gielgud', 0.0915831074918527)\n",
      "('Basil Rathbone', 0.08981921063491403)\n",
      "('Gary Cooper', 0.08938955258000875)\n",
      "('David Niven', 0.08746695187553871)\n",
      "('Andy Devine', 0.08728719728815929)\n",
      "('Humphrey Bogart', 0.08503246285164423)\n",
      "\n",
      "\n"
     ]
    },
    {
     "name": "stderr",
     "output_type": "stream",
     "text": [
      "\n"
     ]
    }
   ],
   "source": [
    "def compute_centralities(graph, centralities, k):\n",
    "    for centrality in tqdm(centralities, total=len(centralities)):\n",
    "        print('Top {} players by {}:'.format(k, centrality.__name__))\n",
    "        c_dict = centrality(graph)\n",
    "        c_dict = dict(sorted(c_dict.items(), key=lambda item: item[1], reverse=True))\n",
    "        for item in list(c_dict.items()):\n",
    "            graph.nodes[item[0]][centrality.__name__] = item[1]\n",
    "        print_dict(c_dict)\n",
    "        print('\\n')\n",
    "    return graph\n",
    "\n",
    "G = compute_centralities(G, [nx.degree_centrality, nx.closeness_centrality, nx.betweenness_centrality, nx.eigenvector_centrality], k)\n",
    "# G = compute_centralities(G, [nx.degree_centrality], k)\n",
    "# print(G.nodes['Humphrey Bogart'])"
   ]
  },
  {
   "cell_type": "markdown",
   "metadata": {},
   "source": [
    "## Communities"
   ]
  },
  {
   "cell_type": "code",
   "execution_count": 7,
   "metadata": {},
   "outputs": [
    {
     "name": "stdout",
     "output_type": "stream",
     "text": [
      "Largest community has size of 59 nodes:\n",
      "('Sir Godrey Teale', 1)\n",
      "('Sebastian Cabot', 1)\n",
      "('C.Aubrey Smith', 1)\n",
      "('Bill Travers', 1)\n",
      "('Francesca Bertini', 1)\n",
      "('Laurence Olivier', 1)\n",
      "('Aldo Zollo', 1)\n",
      "('Harry Hilliard', 1)\n",
      "('Paul Hardwick', 1)\n",
      "('Ibrahim Hamouda', 1)\n",
      "('Henry Kolker', 1)\n",
      "('Ralph Forbes', 1)\n",
      "('Olivia Hussey', 1)\n",
      "('Mervyn Johns', 1)\n",
      "('Virginia Hammond', 1)\n",
      "('Leslie Howard', 1)\n",
      "('Mary Malone', 1)\n",
      "('George A. Lessey', 1)\n",
      "('Andy Devine', 1)\n",
      "('Norma Shearer', 1)\n",
      "('Francis X. Bushman', 1)\n",
      "('Natasha Peryy', 1)\n",
      "('td> Claire Danes<', 1)\n",
      "('Rosemarie Dexter', 1)\n",
      "('John Gielgud', 1)\n",
      "('Norman Wooland', 1)\n",
      "('Reginald Denny', 1)\n",
      "('Theda Bara', 1)\n",
      "('Esmeralda Ruspoli', 1)\n",
      "('Florence Lawrence', 1)\n",
      "('Maria Gasperini', 1)\n",
      "('Lela Mourad', 1)\n",
      "('Leonardo DiCaprio', 1)\n",
      "('Beverly Bane', 1)\n",
      "('Mario Caserini', 1)\n",
      "('Nietta Zocchi', 1)\n",
      "('Bruce Robinson', 1)\n",
      "('Leonard Whiting', 1)\n",
      "('Flora Robson', 1)\n",
      "('Gustav Serena', 1)\n",
      "('Michael York', 1)\n",
      "('Roberto Bisacco', 1)\n",
      "('Antionio Pierfrederici', 1)\n",
      "('Conway Tearle', 1)\n",
      "('Robert Warwick', 1)\n",
      "('Enzo Fiermonte', 1)\n",
      "('Meynier', 1)\n",
      "('John Barrymore', 1)\n",
      "('Paul Panzer', 1)\n",
      "('Lydia Sherwood', 1)\n",
      "('Edna May Oliver', 1)\n",
      "('John McEnery', 1)\n",
      "('Julia M. Taylor', 1)\n",
      "('Milo OShea', 1)\n",
      "('Susan Shentall', 1)\n",
      "('Laurence Harvey', 1)\n",
      "('Gulio Garbinetti', 1)\n",
      "('Basil Rathbone', 1)\n",
      "('Violet KembleCooper', 1)\n",
      "\n",
      "\n",
      "Communities with at least 35 nodes:\n",
      "('Sir Godrey Teale', 1)\n",
      "('Sebastian Cabot', 1)\n",
      "('C.Aubrey Smith', 1)\n",
      "('Bill Travers', 1)\n",
      "('Francesca Bertini', 1)\n",
      "('Laurence Olivier', 5)\n",
      "('Aldo Zollo', 1)\n",
      "('Harry Hilliard', 1)\n",
      "('Paul Hardwick', 1)\n",
      "('Ibrahim Hamouda', 1)\n",
      "('Henry Kolker', 1)\n",
      "('Ralph Forbes', 1)\n",
      "('Olivia Hussey', 1)\n",
      "('Mervyn Johns', 1)\n",
      "('Virginia Hammond', 1)\n",
      "('Leslie Howard', 1)\n",
      "('Mary Malone', 1)\n",
      "('George A. Lessey', 1)\n",
      "('Andy Devine', 3)\n",
      "('Norma Shearer', 1)\n",
      "('Francis X. Bushman', 1)\n",
      "('Natasha Peryy', 1)\n",
      "('td> Claire Danes<', 1)\n",
      "('Rosemarie Dexter', 1)\n",
      "('John Gielgud', 4)\n",
      "('Norman Wooland', 4)\n",
      "('Reginald Denny', 3)\n",
      "('Theda Bara', 1)\n",
      "('Esmeralda Ruspoli', 1)\n",
      "('Florence Lawrence', 1)\n",
      "('Maria Gasperini', 1)\n",
      "('Lela Mourad', 1)\n",
      "('Leonardo DiCaprio', 1)\n",
      "('Beverly Bane', 1)\n",
      "('Mario Caserini', 1)\n",
      "('Nietta Zocchi', 1)\n",
      "('Bruce Robinson', 1)\n",
      "('Leonard Whiting', 1)\n",
      "('Flora Robson', 1)\n",
      "('Gustav Serena', 1)\n",
      "('Michael York', 1)\n",
      "('Roberto Bisacco', 1)\n",
      "('Antionio Pierfrederici', 1)\n",
      "('Conway Tearle', 1)\n",
      "('Robert Warwick', 1)\n",
      "('Enzo Fiermonte', 1)\n",
      "('Meynier', 1)\n",
      "('John Barrymore', 1)\n",
      "('Paul Panzer', 1)\n",
      "('Lydia Sherwood', 1)\n",
      "('Edna May Oliver', 1)\n",
      "('John McEnery', 1)\n",
      "('Julia M. Taylor', 1)\n",
      "('Milo OShea', 1)\n",
      "('Susan Shentall', 1)\n",
      "('Laurence Harvey', 1)\n",
      "('Gulio Garbinetti', 1)\n",
      "('Basil Rathbone', 1)\n",
      "('Violet KembleCooper', 1)\n",
      "('Bill Wallis', 2)\n",
      "('David Dukes', 2)\n",
      "('Robert Morley', 3)\n",
      "('Michael Wolf', 2)\n",
      "('Dan Collier', 2)\n",
      "('Hart Bochner', 2)\n",
      "('Donald Stewart', 2)\n",
      "('Kenneth Colley', 2)\n",
      "('Topol', 2)\n",
      "('Plett Creighton', 2)\n",
      "('Geoffrey Toonen', 2)\n",
      "('Victoria Tennant', 2)\n",
      "('Charles Lane', 2)\n",
      "('Polly Bergen', 2)\n",
      "('Barry Bostwick', 2)\n",
      "('Ian McShane', 2)\n",
      "('Robert Mitchum', 2)\n",
      "('Wolfgang Preiss', 2)\n",
      "('William Doherty', 2)\n",
      "('Natalie Nogulich', 2)\n",
      "('Leslie Hope', 2)\n",
      "('Michael Melling', 2)\n",
      "('Ralph Bellamy', 2)\n",
      "('John RhysDavies', 2)\n",
      "('Peter Vaughn', 2)\n",
      "('Paul Lambert', 2)\n",
      "('William Prince', 2)\n",
      "('Michael Anthony', 2)\n",
      "('H.Richard Greene', 2)\n",
      "('Robert Hardy', 2)\n",
      "('Nina Foch', 2)\n",
      "('William Schallert', 2)\n",
      "('Hardy Kruger', 2)\n",
      "('John Malcolm', 2)\n",
      "('Steven Berkoff', 2)\n",
      "('Jane Seymour', 2)\n",
      "('Sharon Stone', 2)\n",
      "('Harold Kaskel', 2)\n",
      "('Joachim Hauser', 2)\n",
      "('Ian Jenble', 2)\n",
      "('R.G. Armstrong', 2)\n",
      "('William Bergen', 2)\n",
      "('Jeremy Kemp', 2)\n",
      "('Barry Moore', 2)\n",
      "('Melville Cooper', 3)\n",
      "('Tim McCoy', 3)\n",
      "('Ronald Colman', 3)\n",
      "('Fernandel', 3)\n",
      "('Harcourt Williams', 5)\n",
      "('Charles Boyer', 3)\n",
      "('Noel Coward', 3)\n",
      "('Glynis Johns', 3)\n",
      "('Joe E. Brown', 3)\n",
      "('Red Skelton', 3)\n",
      "('David Niven', 3)\n",
      "('Cedric Hardwicke', 3)\n",
      "('John Carradine', 3)\n",
      "('Charles Coburn', 3)\n",
      "('Ronald Squire', 3)\n",
      "('Edmund Lowe', 3)\n",
      "('Buster Keaton', 3)\n",
      "('Ed Murrow', 3)\n",
      "('Mike Mazurki', 3)\n",
      "('A.E. Mathews', 3)\n",
      "('Victor McLaglen', 3)\n",
      "('Martine Carroll', 3)\n",
      "('Basil Sidney', 4)\n",
      "('Alan Mowbray', 3)\n",
      "('Gilbert Roland', 3)\n",
      "('Jack Oakie', 3)\n",
      "('Cesar Romero', 3)\n",
      "('Shirleu Maclaine', 3)\n",
      "('Cantinflas', 3)\n",
      "('Marlene Dietrich', 3)\n",
      "('Evelyn Keyes', 3)\n",
      "('Frank Sinatra', 3)\n",
      "('Trevor Howard', 3)\n",
      "('Finlay Currie', 3)\n",
      "('Luis Dominguin', 3)\n",
      "('John Mills', 4)\n",
      "('Robert Newton', 5)\n",
      "('Jose Greco', 3)\n",
      "('Beatrice Lillie', 3)\n",
      "('Peter Lorre', 3)\n",
      "('Hermione Gingold', 3)\n",
      "('George Raft', 3)\n",
      "('Ian Holm', 5)\n",
      "('Felix Aylmer', 5)\n",
      "('Richard Briers', 4)\n",
      "('Michael Maloney', 4)\n",
      "('Derek Jacobi', 5)\n",
      "('Billy Crystal', 4)\n",
      "('Mark Dignam', 4)\n",
      "('Eileen Herlie', 4)\n",
      "('Roger Livesey', 4)\n",
      "('Judy Parfitt', 4)\n",
      "('Simon Russell Beale', 4)\n",
      "('Michael Pennington', 4)\n",
      "('Charlton Heston', 4)\n",
      "('Esmond Knight', 5)\n",
      "('Terence Morgan', 4)\n",
      "('Robin Williams', 4)\n",
      "('Gerard Depardieu', 4)\n",
      "('Alan Bates', 4)\n",
      "('Nicholas Farrell', 4)\n",
      "('Julie Christie', 4)\n",
      "('Kenneth Branagh', 5)\n",
      "('Glenn Close', 4)\n",
      "('Paul Scofield', 5)\n",
      "('Brian Blessed', 5)\n",
      "('Anthony Hopkins', 4)\n",
      "('Stanley Holloway', 4)\n",
      "('Kate Winslet', 4)\n",
      "('Marianne Faithfull', 4)\n",
      "('Gordon Jackson', 4)\n",
      "('Jack Lemmon', 4)\n",
      "('Jean Simmons', 4)\n",
      "('Nicol Williamson', 4)\n",
      "('Anthony Quayle', 4)\n",
      "('Mel Gibson', 4)\n",
      "('Roy Emerton', 5)\n",
      "('George Robey', 5)\n",
      "('Ralph Truman', 5)\n",
      "('Robert Stephens', 5)\n",
      "('Jonathan Field', 5)\n",
      "('Richard Briars', 5)\n",
      "('Richard Easton', 5)\n",
      "('Judi Dench', 5)\n",
      "('Francis Lister', 5)\n",
      "('Robbie Coltrane', 5)\n",
      "('Christian Bale', 5)\n",
      "('Russell Thorndike', 5)\n",
      "('Leo Genn', 5)\n",
      "('Emma Thompson', 5)\n",
      "('John Laurie', 5)\n",
      "('Frederick Cooper', 5)\n",
      "('Janet Burnett', 5)\n",
      "('Max Adrian', 5)\n",
      "('Alec McGowan', 5)\n",
      "('Geraldine McEwen', 5)\n",
      "('Leslie Banks', 5)\n",
      "('Freda Jackson', 5)\n",
      "('Christopher Ravenscroft', 5)\n",
      "('Reneé Asherson', 5)\n",
      "('Valentine Dyall', 5)\n",
      "('Ivy StHelier', 5)\n",
      "('Ernest Thesiger', 5)\n"
     ]
    }
   ],
   "source": [
    "communities = {node:cid+1 for cid,community in enumerate(nx.algorithms.community.k_clique_communities(G,59)) for node in community}\n",
    "print('Largest community has size of {} nodes:'.format(len(communities)))\n",
    "print_dict(communities, len(communities))\n",
    "print('\\n')\n",
    "\n",
    "communities = {node:cid+1 for cid,community in enumerate(nx.algorithms.community.k_clique_communities(G,35)) for node in community}\n",
    "print('Communities with at least 35 nodes:')\n",
    "print_dict(communities, len(communities))"
   ]
  },
  {
   "cell_type": "markdown",
   "metadata": {},
   "source": [
    "## Kevin Bacon numbers"
   ]
  },
  {
   "cell_type": "code",
   "execution_count": 8,
   "metadata": {},
   "outputs": [
    {
     "name": "stdout",
     "output_type": "stream",
     "text": [
      "Top 10 actors with Kevin Bacon number:\n",
      "('Abel Gance', {'degree_centrality': 0.00018062496236979952, 'closeness_centrality': 0.00018062496236979952, 'betweenness_centrality': 0.0, 'eigenvector_centrality': 3.674385679978072e-21, 'kevin_bacon_number': 16610})\n",
      "('Abel Salazar', {'degree_centrality': 6.020832078993317e-05, 'closeness_centrality': 6.020832078993317e-05, 'betweenness_centrality': 0.0, 'eigenvector_centrality': 2.2426670410022412e-25, 'kevin_bacon_number': 16610})\n",
      "('Abishek Kapoor', {'degree_centrality': 6.020832078993317e-05, 'closeness_centrality': 6.020832078993317e-05, 'betweenness_centrality': 0.0, 'eigenvector_centrality': 2.2426670410022412e-25, 'kevin_bacon_number': 16610})\n",
      "('Adolfas Mekas', {'degree_centrality': 0.00024083328315973267, 'closeness_centrality': 0.00024083328315973267, 'betweenness_centrality': 0.0, 'eigenvector_centrality': 8.354585770525938e-20, 'kevin_bacon_number': 16610})\n",
      "('Adolph Gance', {'degree_centrality': 0.0, 'closeness_centrality': 0.0, 'betweenness_centrality': 0.0, 'eigenvector_centrality': 1.3688153326429695e-29, 'kevin_bacon_number': 16610})\n",
      "('Adriana Asti', {'degree_centrality': 0.0, 'closeness_centrality': 0.0, 'betweenness_centrality': 0.0, 'eigenvector_centrality': 1.3688153326429695e-29, 'kevin_bacon_number': 16610})\n",
      "('Agnes deMille', {'degree_centrality': 0.0, 'closeness_centrality': 0.0, 'betweenness_centrality': 0.0, 'eigenvector_centrality': 1.3688153326429695e-29, 'kevin_bacon_number': 16610})\n",
      "('Aida Leiner', {'degree_centrality': 6.020832078993317e-05, 'closeness_centrality': 6.020832078993317e-05, 'betweenness_centrality': 0.0, 'eigenvector_centrality': 2.2426670410022412e-25, 'kevin_bacon_number': 16610})\n",
      "('Ajay Devgan', {'degree_centrality': 0.00024083328315973267, 'closeness_centrality': 0.00024083328315973267, 'betweenness_centrality': 0.0, 'eigenvector_centrality': 8.354585770525938e-20, 'kevin_bacon_number': 16610})\n",
      "('Ajita Wist', {'degree_centrality': 0.00048166656631946534, 'closeness_centrality': 0.00048166656631946534, 'betweenness_centrality': 0.0, 'eigenvector_centrality': 3.1314104274041607e-16, 'kevin_bacon_number': 16610})\n",
      "\n",
      "\n",
      "Top 10 actors with finite Kevin Bacon number:\n",
      "('Abel Gance', {'degree_centrality': 0.00018062496236979952, 'closeness_centrality': 0.00018062496236979952, 'betweenness_centrality': 0.0, 'eigenvector_centrality': 3.674385679978072e-21, 'kevin_bacon_number': 16610})\n",
      "('Abel Salazar', {'degree_centrality': 6.020832078993317e-05, 'closeness_centrality': 6.020832078993317e-05, 'betweenness_centrality': 0.0, 'eigenvector_centrality': 2.2426670410022412e-25, 'kevin_bacon_number': 16610})\n",
      "('Abishek Kapoor', {'degree_centrality': 6.020832078993317e-05, 'closeness_centrality': 6.020832078993317e-05, 'betweenness_centrality': 0.0, 'eigenvector_centrality': 2.2426670410022412e-25, 'kevin_bacon_number': 16610})\n",
      "('Adolfas Mekas', {'degree_centrality': 0.00024083328315973267, 'closeness_centrality': 0.00024083328315973267, 'betweenness_centrality': 0.0, 'eigenvector_centrality': 8.354585770525938e-20, 'kevin_bacon_number': 16610})\n",
      "('Adolph Gance', {'degree_centrality': 0.0, 'closeness_centrality': 0.0, 'betweenness_centrality': 0.0, 'eigenvector_centrality': 1.3688153326429695e-29, 'kevin_bacon_number': 16610})\n",
      "('Adriana Asti', {'degree_centrality': 0.0, 'closeness_centrality': 0.0, 'betweenness_centrality': 0.0, 'eigenvector_centrality': 1.3688153326429695e-29, 'kevin_bacon_number': 16610})\n",
      "('Agnes deMille', {'degree_centrality': 0.0, 'closeness_centrality': 0.0, 'betweenness_centrality': 0.0, 'eigenvector_centrality': 1.3688153326429695e-29, 'kevin_bacon_number': 16610})\n",
      "('Aida Leiner', {'degree_centrality': 6.020832078993317e-05, 'closeness_centrality': 6.020832078993317e-05, 'betweenness_centrality': 0.0, 'eigenvector_centrality': 2.2426670410022412e-25, 'kevin_bacon_number': 16610})\n",
      "('Ajay Devgan', {'degree_centrality': 0.00024083328315973267, 'closeness_centrality': 0.00024083328315973267, 'betweenness_centrality': 0.0, 'eigenvector_centrality': 8.354585770525938e-20, 'kevin_bacon_number': 16610})\n",
      "('Ajita Wist', {'degree_centrality': 0.00048166656631946534, 'closeness_centrality': 0.00048166656631946534, 'betweenness_centrality': 0.0, 'eigenvector_centrality': 3.1314104274041607e-16, 'kevin_bacon_number': 16610})\n",
      "\n",
      "\n",
      "Bottom 10 actors with finite Kevin Bacon number:\n",
      "('Kevin Bacon', {'degree_centrality': 0.0034318742850261907, 'closeness_centrality': 0.2819631534445897, 'betweenness_centrality': 0.0007830112633597049, 'eigenvector_centrality': 0.0031398712104195427, 'kevin_bacon_number': 0})\n",
      "('Aaron Michael Metchik', {'degree_centrality': 0.0003010416039496658, 'closeness_centrality': 0.2318022701551928, 'betweenness_centrality': 0.0, 'eigenvector_centrality': 0.0001745854992279462, 'kevin_bacon_number': 1})\n",
      "('Aaron Spelling', {'degree_centrality': 0.0007224998494791981, 'closeness_centrality': 0.2578243323211152, 'betweenness_centrality': 1.553299129136911e-05, 'eigenvector_centrality': 0.0010752346534124652, 'kevin_bacon_number': 1})\n",
      "('Abe Vigoda', {'degree_centrality': 0.0003010416039496658, 'closeness_centrality': 0.2412220078913464, 'betweenness_centrality': 0.0, 'eigenvector_centrality': 0.0003112569936670367, 'kevin_bacon_number': 1})\n",
      "('Adam Roarke', {'degree_centrality': 0.0005418748871093985, 'closeness_centrality': 0.253872695691508, 'betweenness_centrality': 1.1923355278052057e-05, 'eigenvector_centrality': 0.0006705672053230135, 'kevin_bacon_number': 1})\n",
      "('Adam West', {'degree_centrality': 0.0015654163405382623, 'closeness_centrality': 0.2815758247942259, 'betweenness_centrality': 8.980290546636014e-05, 'eigenvector_centrality': 0.004878152616344954, 'kevin_bacon_number': 1})\n",
      "('Adolphe Menjou', {'degree_centrality': 0.009392498043229574, 'closeness_centrality': 0.30862978584583317, 'betweenness_centrality': 0.002258421332537391, 'eigenvector_centrality': 0.039128817300652895, 'kevin_bacon_number': 1})\n",
      "('Aerik Egan', {'degree_centrality': 0.0009031248118489975, 'closeness_centrality': 0.23320743208651953, 'betweenness_centrality': 0.0, 'eigenvector_centrality': 0.00023498297583877175, 'kevin_bacon_number': 1})\n",
      "('Aidan Quinn', {'degree_centrality': 0.003251249322656391, 'closeness_centrality': 0.2778661712522872, 'betweenness_centrality': 0.00037949345849733857, 'eigenvector_centrality': 0.0023429702566866756, 'kevin_bacon_number': 1})\n",
      "('Al Karth', {'degree_centrality': 0.00036124992473959903, 'closeness_centrality': 0.2341815754862276, 'betweenness_centrality': 0.0, 'eigenvector_centrality': 0.00016146190477618716, 'kevin_bacon_number': 1})\n",
      "\n",
      "\n",
      "Average Kevin Bacon number: 1849.698494882601\n"
     ]
    }
   ],
   "source": [
    "def kevin_bacon_numbers(graph):\n",
    "    for a in graph.nodes():\n",
    "        try:\n",
    "            path = nx.shortest_path(graph,source=a,target='Kevin Bacon')\n",
    "            graph.nodes[a]['kevin_bacon_number'] = int(len(path)/2)\n",
    "        except nx.NetworkXNoPath:\n",
    "            graph.nodes[a]['kevin_bacon_number'] = len(graph.nodes())\n",
    "#         print('{0}: {1}'.format(a, graph.nodes[a]))\n",
    "    return graph\n",
    "\n",
    "print('Top {} actors with Kevin Bacon number:'.format(k))\n",
    "G = kevin_bacon_numbers(G)\n",
    "# print(G.nodes['Humphrey Bogart'])\n",
    "\n",
    "\n",
    "#=== Top k actors by Kevin Bacon number (including infinite KB number - actors wign non-existing path to KB)\n",
    "# Sort actors by Kevin Bacon number\n",
    "kevin_bacon_desc = dict(sorted(dict(G.nodes(data=True)).items(), key=lambda item: item[1]['kevin_bacon_number'], reverse=True))\n",
    "print_dict(kevin_bacon_desc)\n",
    "print('\\n')\n",
    "\n",
    "\n",
    "#=== Top k actors by Kevin Bacon number (finite only)\n",
    "kevin_bacon_decs_fin = {}\n",
    "\n",
    "# Filter actors by finite Kevin Bacon number\n",
    "to_add = [key for key in kevin_bacon_desc if kevin_bacon_desc[key]['kevin_bacon_number'] is not math.inf]\n",
    "for key in to_add:\n",
    "    kevin_bacon_decs_fin[key] = kevin_bacon_desc[key]\n",
    "    \n",
    "print('Top {} actors with finite Kevin Bacon number:'.format(k))\n",
    "print_dict(kevin_bacon_decs_fin)\n",
    "print('\\n')\n",
    "\n",
    "\n",
    "#=== Bottom k actors by Kevin Bacon number\n",
    "print('Bottom {} actors with finite Kevin Bacon number:'.format(k))\n",
    "kevin_bacon_asc_fin = dict(sorted(kevin_bacon_decs_fin.items(), key=lambda item: item[1]['kevin_bacon_number']))\n",
    "print_dict(kevin_bacon_asc_fin)\n",
    "print('\\n')\n",
    "\n",
    "#=== Average Kevin Bacon number (finite numbers only)\n",
    "sum = 0\n",
    "for item in kevin_bacon_asc_fin.items():\n",
    "    sum += item[1]['kevin_bacon_number']\n",
    "kv_avg = sum/len(kevin_bacon_asc_fin)\n",
    "print('Average Kevin Bacon number: {}'.format(kv_avg))"
   ]
  },
  {
   "cell_type": "markdown",
   "metadata": {},
   "source": [
    "## Save into GEXF format"
   ]
  },
  {
   "cell_type": "code",
   "execution_count": 9,
   "metadata": {},
   "outputs": [],
   "source": [
    "nx.write_gexf(G, './../results/actors_casts.gexf')"
   ]
  },
  {
   "cell_type": "markdown",
   "metadata": {},
   "source": [
    "## Dataset reduction"
   ]
  },
  {
   "cell_type": "code",
   "execution_count": 10,
   "metadata": {},
   "outputs": [
    {
     "name": "stdout",
     "output_type": "stream",
     "text": [
      "8632\n",
      "4356\n",
      "6090\n"
     ]
    }
   ],
   "source": [
    "movies_casts_cnt = casts['movie'].value_counts().to_dict()\n",
    "print(len(movies_casts_cnt))\n",
    "# print(movies_casts_cnt)\n",
    "\n",
    "movies_reduced = list(k for (k, v) in movies_casts_cnt.items() if (v < 5))\n",
    "print(len(movies_reduced))\n",
    "# print(movies_reduced)\n",
    "\n",
    "movies_by_actor_reduced_dict = {}\n",
    "\n",
    "for key, val in movies_by_actor_dict.items():\n",
    "    if lists_overlap(val, movies_reduced):\n",
    "        movies_by_actor_reduced_dict[key] = val\n",
    "\n",
    "print(len(movies_by_actor_reduced_dict))\n",
    "# print(movies_by_actor_reduced_dict)"
   ]
  },
  {
   "cell_type": "markdown",
   "metadata": {},
   "source": [
    "## Construct reduced graph"
   ]
  },
  {
   "cell_type": "code",
   "execution_count": 11,
   "metadata": {},
   "outputs": [
    {
     "name": "stderr",
     "output_type": "stream",
     "text": [
      "100%|██████████| 6090/6090 [00:33<00:00, 183.43it/s]\n"
     ]
    }
   ],
   "source": [
    "# Create the graph\n",
    "G_reduced = nx.Graph()\n",
    "\n",
    "for actor in movies_by_actor_reduced_dict.keys():\n",
    "    G_reduced.add_node(actor)\n",
    "\n",
    "for actor1, movies1 in tqdm(movies_by_actor_reduced_dict.items(), total=len(G_reduced.nodes())):\n",
    "    for actor2, movies2 in movies_by_actor_reduced_dict.items():\n",
    "        if actor1 != actor2 and lists_overlap(movies1, movies2):\n",
    "            G_reduced.add_edge(actor1, actor2)"
   ]
  },
  {
   "cell_type": "markdown",
   "metadata": {},
   "source": [
    "## Reduced graph general statistics"
   ]
  },
  {
   "cell_type": "code",
   "execution_count": 12,
   "metadata": {},
   "outputs": [
    {
     "name": "stdout",
     "output_type": "stream",
     "text": [
      "Number of nodes:  6090\n",
      "Number of edges:  44412\n",
      "Density:  0.0023953394112131462\n",
      "Number of components:  669\n"
     ]
    }
   ],
   "source": [
    "general_statistics(G_reduced)"
   ]
  },
  {
   "cell_type": "markdown",
   "metadata": {},
   "source": [
    "## Reduced Centralities"
   ]
  },
  {
   "cell_type": "code",
   "execution_count": 13,
   "metadata": {},
   "outputs": [
    {
     "name": "stderr",
     "output_type": "stream",
     "text": [
      "  0%|          | 0/4 [00:00<?, ?it/s]"
     ]
    },
    {
     "name": "stdout",
     "output_type": "stream",
     "text": [
      "Top 10 players by degree_centrality:\n",
      "('Charlton Heston', 0.032846115946789295)\n",
      "('Burt Lancaster', 0.03169650188865167)\n",
      "('John Carradine', 0.03169650188865167)\n",
      "('Henry Fonda', 0.031532271308917725)\n",
      "('James Stewart', 0.031532271308917725)\n",
      "('John Gielgud', 0.031039579569715883)\n",
      "('Gary Cooper', 0.030382657250780095)\n",
      "('Humphrey Bogart', 0.029397273772376418)\n",
      "('Gene Hackman', 0.02890458203317458)\n",
      "('C.Aubrey Smith', 0.0279191985547709)\n",
      "\n",
      "\n",
      "Top 10 players by closeness_centrality:\n"
     ]
    },
    {
     "name": "stderr",
     "output_type": "stream",
     "text": [
      " 50%|█████     | 2/4 [00:36<00:36, 18.03s/it]"
     ]
    },
    {
     "name": "stdout",
     "output_type": "stream",
     "text": [
      "('Burt Lancaster', 0.310685667814704)\n",
      "('Charlton Heston', 0.30940184274108956)\n",
      "('John Gielgud', 0.30855183767861405)\n",
      "('Robert Mitchum', 0.3041769589860226)\n",
      "('Henry Fonda', 0.30395904983766037)\n",
      "('Roddy McDowall', 0.30225087407871837)\n",
      "('John Carradine', 0.3012969499061486)\n",
      "('Gene Hackman', 0.3006327777602367)\n",
      "('Martin Balsam', 0.30030178854282225)\n",
      "('Laurence Olivier', 0.30027817434226056)\n",
      "\n",
      "\n",
      "Top 10 players by betweenness_centrality:\n"
     ]
    },
    {
     "name": "stderr",
     "output_type": "stream",
     "text": [
      " 75%|███████▌  | 3/4 [03:48<01:30, 90.82s/it]"
     ]
    },
    {
     "name": "stdout",
     "output_type": "stream",
     "text": [
      "('Burt Lancaster', 0.011316000218762638)\n",
      "('John Gielgud', 0.01011536998385631)\n",
      "('Robert deNiro', 0.009845090840123924)\n",
      "('Gene Hackman', 0.009550366517573454)\n",
      "('Charlton Heston', 0.008972107908516226)\n",
      "('Jack Nicholson', 0.008110236359800432)\n",
      "('Ingrid Bergman', 0.007982081948154812)\n",
      "('John Carradine', 0.007771133819277224)\n",
      "('Max vonSydow', 0.007355403373209441)\n",
      "('Sean Connery', 0.007291372602422415)\n",
      "\n",
      "\n",
      "Top 10 players by eigenvector_centrality:\n"
     ]
    },
    {
     "name": "stderr",
     "output_type": "stream",
     "text": [
      "100%|██████████| 4/4 [03:49<00:00, 57.30s/it]"
     ]
    },
    {
     "name": "stdout",
     "output_type": "stream",
     "text": [
      "('John Carradine', 0.11467320567694805)\n",
      "('Henry Fonda', 0.10901593912198233)\n",
      "('James Stewart', 0.1043326997428101)\n",
      "('C.Aubrey Smith', 0.1033950443827341)\n",
      "('David Niven', 0.10139095210817224)\n",
      "('Charlton Heston', 0.09939158317938407)\n",
      "('Gary Cooper', 0.09491106954410376)\n",
      "('John Gielgud', 0.09016101051755374)\n",
      "('Peter Lorre', 0.0882240195382321)\n",
      "('Humphrey Bogart', 0.08555892800714512)\n",
      "\n",
      "\n"
     ]
    },
    {
     "name": "stderr",
     "output_type": "stream",
     "text": [
      "\n"
     ]
    }
   ],
   "source": [
    "G_reduced = compute_centralities(G_reduced, [nx.degree_centrality, nx.closeness_centrality, nx.betweenness_centrality, nx.eigenvector_centrality], k)"
   ]
  },
  {
   "cell_type": "markdown",
   "metadata": {},
   "source": [
    "## Reduced communities"
   ]
  },
  {
   "cell_type": "code",
   "execution_count": 14,
   "metadata": {},
   "outputs": [
    {
     "name": "stdout",
     "output_type": "stream",
     "text": [
      "Communities with at least 20 nodes:\n",
      "('Vincent dOnofrio', 1)\n",
      "('Andie McDowell', 1)\n",
      "('Peter Gallagher', 1)\n",
      "('Nick Nolte', 1)\n",
      "('Burt Reynolds', 1)\n",
      "('Fred Ward', 1)\n",
      "('Tim Robbins', 1)\n",
      "('Cher', 1)\n",
      "('Anjelica Huston', 1)\n",
      "('Buck Henry', 1)\n",
      "('Whoopie Goldberg', 1)\n",
      "('Bruce Willis', 1)\n",
      "('Greta Scacchi', 1)\n",
      "('Dina Merrill', 1)\n",
      "('Dustin Hoffman', 1)\n",
      "('Jack Lemmon', 1)\n",
      "('Dean Stockwell', 1)\n",
      "('Julia Roberts', 1)\n",
      "('Lyle Lovett', 1)\n",
      "('Susan Sarandon', 1)\n",
      "('Robert Morley', 3)\n",
      "('Victor McLaglen', 2)\n",
      "('Tim McCoy', 2)\n",
      "('Basil Sidney', 2)\n",
      "('Cesar Romero', 2)\n",
      "('Gilbert Roland', 2)\n",
      "('Ronald Colman', 2)\n",
      "('Fernandel', 2)\n",
      "('Charles Boyer', 2)\n",
      "('Marlene Dietrich', 2)\n",
      "('Glynis Johns', 2)\n",
      "('Evelyn Keyes', 2)\n",
      "('Joe E. Brown', 2)\n",
      "('Frank Sinatra', 2)\n",
      "('John Gielgud', 3)\n",
      "('Red Skelton', 2)\n",
      "('Reginald Denny', 2)\n",
      "('David Niven', 2)\n",
      "('John Mills', 2)\n",
      "('John Carradine', 2)\n",
      "('Robert Newton', 2)\n",
      "('Buster Keaton', 2)\n",
      "('Trevor Howard', 2)\n",
      "('Peter Lorre', 2)\n",
      "('George Raft', 2)\n",
      "('David Dukes', 3)\n",
      "('Jeremy Kemp', 3)\n",
      "('Hart Bochner', 3)\n",
      "('Topol', 3)\n",
      "('Ralph Bellamy', 3)\n",
      "('Victoria Tennant', 3)\n",
      "('Charles Lane', 3)\n",
      "('Polly Bergen', 3)\n",
      "('R.G. Armstrong', 3)\n",
      "('William Prince', 3)\n",
      "('Robert Hardy', 3)\n",
      "('Nina Foch', 3)\n",
      "('William Schallert', 3)\n",
      "('Hardy Kruger', 3)\n",
      "('Robert Mitchum', 4)\n",
      "('Jane Seymour', 3)\n",
      "('Sharon Stone', 3)\n",
      "('Wolfgang Preiss', 3)\n",
      "('Leslie Hope', 3)\n",
      "('Robert Wagner', 4)\n",
      "('John Gregson', 4)\n",
      "('Arletty', 4)\n",
      "('Eddie Albert', 4)\n",
      "('Donald Houston', 4)\n",
      "('Tom Tryon', 4)\n",
      "('John Wayne', 4)\n",
      "('Sean Connery', 4)\n",
      "('Edmond OBrien', 4)\n",
      "('Peter Lawford', 4)\n",
      "('Kenneth Moore', 4)\n",
      "('Stuart Whitman', 4)\n",
      "('Richard Todd', 4)\n",
      "('Richard Beymer', 4)\n",
      "('Curt Jurgens', 4)\n",
      "('Richard Burton', 4)\n",
      "('Mel Ferrer', 4)\n",
      "('Rod Steiger', 4)\n",
      "('Alexander Knox', 4)\n",
      "('Henry Fonda', 4)\n",
      "('JeanLouis Barrault', 4)\n",
      "('Robert Ryan', 4)\n",
      "('Roddy McDowall', 4)\n",
      "('Jeffrey Hunter', 4)\n",
      "('Steve Forrest', 4)\n",
      "('Red Buttons', 4)\n",
      "('Charlie Sheen', 5)\n",
      "('Kiefer Sutherland', 5)\n",
      "('Binnie Barnes', 5)\n",
      "('Gene Kelly', 5)\n",
      "('Van Heflin', 5)\n",
      "('Joseph Schildkraut', 5)\n",
      "('June Allyson', 5)\n",
      "('Angela Lansbury', 5)\n",
      "('Walter Abel', 5)\n",
      "('Frank Morgan', 5)\n",
      "('Lionel Atwill', 5)\n",
      "('Miles Mander', 5)\n",
      "('Paul Lukas', 5)\n",
      "('Oliver Platt', 5)\n",
      "('Charlton Heston', 5)\n",
      "('Lana Turner', 5)\n",
      "('Chris ODonnell', 5)\n",
      "('Hugh OConnor', 5)\n",
      "('Don Ameche', 5)\n",
      "('Gloria Stuart', 5)\n",
      "('Gabrielle Anwar', 5)\n",
      "('Margot Grahame', 5)\n",
      "('Vincent Price', 5)\n"
     ]
    }
   ],
   "source": [
    "communities = {node:cid+1 for cid,community in enumerate(nx.algorithms.community.k_clique_communities(G_reduced,20)) for node in community}\n",
    "print('Communities with at least 20 nodes:')\n",
    "print_dict(communities, len(communities))\n",
    "\n",
    "for key, val in G_reduced.nodes().items():\n",
    "    if key in communities:\n",
    "        G_reduced.nodes[key]['community'] = communities[key]\n",
    "    else:\n",
    "        G_reduced.nodes[key]['community'] = 0"
   ]
  },
  {
   "cell_type": "markdown",
   "metadata": {},
   "source": [
    "## Reduced Kevin Bacon numbers"
   ]
  },
  {
   "cell_type": "code",
   "execution_count": 15,
   "metadata": {},
   "outputs": [
    {
     "name": "stdout",
     "output_type": "stream",
     "text": [
      "('58 Plymouth Fury', {'degree_centrality': 0.00016423057973394647, 'closeness_centrality': 0.1791862204077954, 'betweenness_centrality': 0.0, 'eigenvector_centrality': 6.383975775530849e-05, 'community': 0, 'kevin_bacon_number': 2})\n",
      "('Aaron Schwartz', {'degree_centrality': 0.00032846115946789294, 'closeness_centrality': 0.1919106213242802, 'betweenness_centrality': 0.0, 'eigenvector_centrality': 0.00011137954845097149, 'community': 0, 'kevin_bacon_number': 2})\n",
      "('Abel Gance', {'degree_centrality': 0.0004926917392018395, 'closeness_centrality': 0.0004926917392018393, 'betweenness_centrality': 0.0, 'eigenvector_centrality': 1.9742043101430193e-21, 'community': 0, 'kevin_bacon_number': 6090})\n",
      "('Abel Salazar', {'degree_centrality': 0.00016423057973394647, 'closeness_centrality': 0.00016423057973394647, 'betweenness_centrality': 0.0, 'eigenvector_centrality': 3.012396713475066e-26, 'community': 0, 'kevin_bacon_number': 6090})\n",
      "('Abishek Kapoor', {'degree_centrality': 0.00016423057973394647, 'closeness_centrality': 0.00016423057973394647, 'betweenness_centrality': 0.0, 'eigenvector_centrality': 3.012396713475066e-26, 'community': 0, 'kevin_bacon_number': 6090})\n",
      "('Abraham Sofaer', {'degree_centrality': 0.003941533913614716, 'closeness_centrality': 0.24911198011028296, 'betweenness_centrality': 0.0005578688883706285, 'eigenvector_centrality': 0.01221745067143188, 'community': 0, 'kevin_bacon_number': 2})\n",
      "('Acquanetta', {'degree_centrality': 0.0013138446378715717, 'closeness_centrality': 0.2262628158505971, 'betweenness_centrality': 1.2977203474017518e-05, 'eigenvector_centrality': 0.003986695691544215, 'community': 0, 'kevin_bacon_number': 2})\n",
      "('Adam Ant', {'degree_centrality': 0.0004926917392018395, 'closeness_centrality': 0.17018618161647772, 'betweenness_centrality': 0.0, 'eigenvector_centrality': 1.1328868079693608e-05, 'community': 0, 'kevin_bacon_number': 2})\n",
      "('Adam Faith', {'degree_centrality': 0.0006569223189357859, 'closeness_centrality': 0.21711607591030974, 'betweenness_centrality': 2.1899022925804818e-05, 'eigenvector_centrality': 0.0010397077527302327, 'community': 0, 'kevin_bacon_number': 2})\n",
      "('Adam Monty', {'degree_centrality': 0.0004926917392018395, 'closeness_centrality': 0.21099776456572703, 'betweenness_centrality': 0.0, 'eigenvector_centrality': 0.0005421315583776408, 'community': 0, 'kevin_bacon_number': 2})\n"
     ]
    }
   ],
   "source": [
    "G_reduced = kevin_bacon_numbers(G_reduced)\n",
    "print_dict(G_reduced.nodes())"
   ]
  },
  {
   "cell_type": "markdown",
   "metadata": {},
   "source": [
    "## Save into GEFX format"
   ]
  },
  {
   "cell_type": "code",
   "execution_count": 16,
   "metadata": {},
   "outputs": [],
   "source": [
    "nx.write_gexf(G_reduced, './../results/actors_casts_reduced.gexf')"
   ]
  },
  {
   "cell_type": "markdown",
   "metadata": {},
   "source": [
    "## Testing attributes"
   ]
  },
  {
   "cell_type": "code",
   "execution_count": 17,
   "metadata": {},
   "outputs": [
    {
     "name": "stdout",
     "output_type": "stream",
     "text": [
      "{'degree_centrality': 0.0004926917392018395, 'closeness_centrality': 0.0004926917392018393, 'betweenness_centrality': 0.0, 'eigenvector_centrality': 1.9742043101430193e-21, 'community': 0, 'kevin_bacon_number': 6090}\n"
     ]
    }
   ],
   "source": [
    "print(G_reduced.nodes['Matthew Settle'])"
   ]
  }
 ],
 "metadata": {
  "kernelspec": {
   "display_name": "Python 3",
   "language": "python",
   "name": "python3"
  },
  "language_info": {
   "codemirror_mode": {
    "name": "ipython",
    "version": 3
   },
   "file_extension": ".py",
   "mimetype": "text/x-python",
   "name": "python",
   "nbconvert_exporter": "python",
   "pygments_lexer": "ipython3",
   "version": "3.8.5"
  }
 },
 "nbformat": 4,
 "nbformat_minor": 4
}
